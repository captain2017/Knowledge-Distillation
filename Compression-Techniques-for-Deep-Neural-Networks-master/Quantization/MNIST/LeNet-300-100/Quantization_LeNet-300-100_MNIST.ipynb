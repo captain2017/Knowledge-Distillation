{
 "cells": [
  {
   "cell_type": "markdown",
   "metadata": {},
   "source": [
    "Author: Naveen Lalwani\n\n",
    "#QUANTIZATION<BR>\n",
    "The following python notebook demonstrates quantization of LeNet-300-100 model on MNIST dataset. The full trained and quantized models are saved as tflite models and inferences are checked on the MNIST test images.  "
   ]
  },
  {
   "cell_type": "code",
   "execution_count": 273,
   "metadata": {},
   "outputs": [],
   "source": [
    "import numpy as np\n",
    "import tensorflow as tf\n",
    "import pandas as pd\n",
    "import matplotlib.pyplot as plt\n",
    "from collections import Counter\n",
    "from tensorflow.contrib import lite"
   ]
  },
  {
   "cell_type": "markdown",
   "metadata": {},
   "source": [
    "Importing the <B>MNIST</B> dataset from the Tensorflow examples. The images get saved in the folder named \"MNIST_data\" until otherwise specifed."
   ]
  },
  {
   "cell_type": "code",
   "execution_count": 274,
   "metadata": {},
   "outputs": [
    {
     "name": "stdout",
     "output_type": "stream",
     "text": [
      "Extracting MNIST_data/train-images-idx3-ubyte.gz\n",
      "Extracting MNIST_data/train-labels-idx1-ubyte.gz\n",
      "Extracting MNIST_data/t10k-images-idx3-ubyte.gz\n",
      "Extracting MNIST_data/t10k-labels-idx1-ubyte.gz\n"
     ]
    }
   ],
   "source": [
    "from tensorflow.examples.tutorials.mnist import input_data\n",
    "mnist = input_data.read_data_sets(\"MNIST_data/\", one_hot=True)\n",
    "testData, testLabels = mnist.test.images, mnist.test.labels"
   ]
  },
  {
   "cell_type": "markdown",
   "metadata": {},
   "source": [
    "The total number of training examples in MNIST dataset is 55,000 has a total of 10 labels. Loading the training data."
   ]
  },
  {
   "cell_type": "code",
   "execution_count": 275,
   "metadata": {},
   "outputs": [
    {
     "name": "stdout",
     "output_type": "stream",
     "text": [
      "Number of training examples =  55000\n",
      "Training Data shape =  (55000, 784)\n",
      "Training Data labels shape =  (55000, 10)\n"
     ]
    }
   ],
   "source": [
    "numTrain = mnist.train.images.shape[0]\n",
    "trainingData = mnist.train.images[:numTrain,:]\n",
    "trainingLabels = mnist.train.labels[:numTrain,:]\n",
    "print(\"Number of training examples = \", numTrain)\n",
    "print(\"Training Data shape = \", trainingData.shape)\n",
    "print(\"Training Data labels shape = \", trainingLabels.shape)"
   ]
  },
  {
   "cell_type": "markdown",
   "metadata": {},
   "source": [
    "The total number of training examples in MNIST dataset is 10,000 has a total of 10 labels. Loading the test data. Each example is a 28x28 pixel image flattened in an array with 784 values representing each pixel’s intensity. "
   ]
  },
  {
   "cell_type": "code",
   "execution_count": 276,
   "metadata": {},
   "outputs": [
    {
     "name": "stdout",
     "output_type": "stream",
     "text": [
      "Number of test examples =  10000\n",
      "Test Data shape =  (10000, 784)\n",
      "Test Data labels shape =  (10000, 10)\n"
     ]
    }
   ],
   "source": [
    "numTest = mnist.test.images.shape[0]\n",
    "testData = mnist.test.images[:numTest,:]\n",
    "testLabels = mnist.test.labels[:numTest,:]\n",
    "print(\"Number of test examples = \", numTest)\n",
    "print(\"Test Data shape = \", testData.shape)\n",
    "print(\"Test Data labels shape = \", testLabels.shape)"
   ]
  },
  {
   "cell_type": "markdown",
   "metadata": {},
   "source": [
    "###Displaying the data from the MNIST dataset."
   ]
  },
  {
   "cell_type": "code",
   "execution_count": 277,
   "metadata": {},
   "outputs": [
    {
     "name": "stdout",
     "output_type": "stream",
     "text": [
      "[0. 0. 0. 0. 1. 0. 0. 0. 0. 0.]\n"
     ]
    },
    {
     "data": {
      "image/png": "[encoded data removed]",
      "text/plain": [
       "<Figure size 432x288 with 1 Axes>"
      ]
     },
     "metadata": {
      "needs_background": "light"
     },
     "output_type": "display_data"
    }
   ],
   "source": [
    "def display_digit(num):\n",
    "    print(trainingLabels[num])\n",
    "    label = trainingLabels[num].argmax(axis=0)\n",
    "    image = trainingData[num].reshape([28,28])\n",
    "    plt.title('Example: %d  Label: %d' % (num, label))\n",
    "    plt.imshow(image, cmap=plt.get_cmap('gray_r'))\n",
    "    plt.show()\n",
    "display_digit(2)"
   ]
  },
  {
   "cell_type": "markdown",
   "metadata": {},
   "source": [
    "#Beginning the building of LeNet-300-100 neural network."
   ]
  },
  {
   "cell_type": "markdown",
   "metadata": {},
   "source": [
    "##Defining the training parameters."
   ]
  },
  {
   "cell_type": "code",
   "execution_count": 278,
   "metadata": {},
   "outputs": [],
   "source": [
    "learning_rate = 0.01\n",
    "epochs = 4000\n",
    "batch_size = 256\n",
    "display_step = 500"
   ]
  },
  {
   "cell_type": "markdown",
   "metadata": {},
   "source": [
    "##Network Parameters."
   ]
  },
  {
   "cell_type": "code",
   "execution_count": 279,
   "metadata": {},
   "outputs": [],
   "source": [
    "n_input = 784\n",
    "n_classes = 10"
   ]
  },
  {
   "cell_type": "markdown",
   "metadata": {},
   "source": [
    "##Use of Placeholders \n",
    "<list>\n",
    "<li>Placeholder variables used to feed input into the graph.\n",
    "<li>Model variables that are going to be optimized so as to make the model perform better.\n",
    "<li>The model which is essentially just a mathematical function that calculates some output given the input in the placeholder variables and the model variables.\n",
    "<li>A cost measure that can be used to guide the optimization of the variables.\n",
    "<li>An optimization method which updates the variables of the model.\n",
    "</list>\n",
    "Placeholder variables serve as the input to the graph that we may change each time we execute the graph. We call this feeding the placeholder variables.<BR>\n",
    "###Placeholder for input images <BR>\n",
    "This will allow us to change the images that are input to the Tensorflow graph. TThe data type is set to float32 and the shape is set to [None, n_input], where None means that the tensor may hold an arbitrary number of images with each image being a vector of length \"n_input\". <BR>\n",
    "###Placeholder for Labels <BR>\n",
    "This will allow us to change the labesl that are true labels with the images in the placeholder X.  "
   ]
  },
  {
   "cell_type": "code",
   "execution_count": 280,
   "metadata": {},
   "outputs": [],
   "source": [
    "# Placeholders\n",
    "X = tf.placeholder(tf.float32, shape = [None, n_input], name = \"X\") # Placeholder for Images\n",
    "Y = tf.placeholder(tf.float32, shape = [None, n_classes], name = \"Y\") # Placeholder for Labels"
   ]
  },
  {
   "cell_type": "markdown",
   "metadata": {},
   "source": [
    "#Defining variables to be optimized "
   ]
  },
  {
   "cell_type": "markdown",
   "metadata": {},
   "source": [
    "The variables that are first optimized are weights and is defined as TensorFlow variable that is initialized randomly and whose shape is [n_input, n_classes], so it is a 2 dimensional tensor(matrix) with 784 rows and 10 columns.<BR>\n",
    "##Defining weights & biases for the three layers."
   ]
  },
  {
   "cell_type": "code",
   "execution_count": 281,
   "metadata": {},
   "outputs": [],
   "source": [
    "weights = {\n",
    "    # Fully Connected Layer 1: 784 input channels, 300 output channels\n",
    "    'w1' : tf.Variable(tf.random_normal([784, 300]), name = 'w1'),\n",
    "    # Fully Connected Layer 2: 300 input channels, 100 output channels\n",
    "    'w2' : tf.Variable(tf.random_normal([300, 100]), name = 'w2'),\n",
    "    # Fully Connected Layer 3: 100 input channels, 10 (number of classes) output channels\n",
    "    'w3' : tf.Variable(tf.random_normal([100, 10]), name = 'w3')\n",
    "}"
   ]
  },
  {
   "cell_type": "code",
   "execution_count": 282,
   "metadata": {},
   "outputs": [],
   "source": [
    "biases = {\n",
    "    'b1' : tf.Variable(tf.random_normal([300]), name = 'b1'),\n",
    "    'b2' : tf.Variable(tf.random_normal([100]), name = 'b2'),\n",
    "    'b3' : tf.Variable(tf.random_normal([10]), name = 'b3')\n",
    "}"
   ]
  },
  {
   "cell_type": "markdown",
   "metadata": {},
   "source": [
    "# DEFINING THE LENET-300-100 MODEL"
   ]
  },
  {
   "cell_type": "code",
   "execution_count": 283,
   "metadata": {},
   "outputs": [],
   "source": [
    "def lenet_300_100(x, weight, bias):\n",
    "    b_min1 = tf.reduce_min(bias['b1'])\n",
    "    b_max1 = tf.reduce_max(bias['b1'])\n",
    "    b_fake_quant1 = tf.fake_quant_with_min_max_vars(bias['b1'], \n",
    "                    min=b_min1, \n",
    "                    max=b_max1, \n",
    "                    narrow_range=True, \n",
    "                    name=\"b_weights1\")\n",
    "    \n",
    "    \n",
    "    b_min2 = tf.reduce_min(bias['b2'])\n",
    "    b_max2 = tf.reduce_max(bias['b2'])\n",
    "    b_fake_quant2 = tf.fake_quant_with_min_max_vars(bias['b2'], \n",
    "                    min=b_min2, \n",
    "                    max=b_max2, \n",
    "                    narrow_range=True,\n",
    "                    name=\"b_weights2\")\n",
    "    \n",
    "    \n",
    "    b_min3 = tf.reduce_min(bias['b3'])\n",
    "    b_max3 = tf.reduce_max(bias['b3'])\n",
    "    b_fake_quant3 = tf.fake_quant_with_min_max_vars(bias['b3'], \n",
    "                    min=b_min3, \n",
    "                    max=b_max3, \n",
    "                    narrow_range=True,\n",
    "                    name=\"b_weights3\")\n",
    "    \n",
    "    # Fully Connected Layer 1\n",
    "    # First multiply the weights with inputs, then add the bias, then apply RELU activation\n",
    "    w_min1 = tf.reduce_min(weight['w1'])\n",
    "    w_max1 = tf.reduce_max(weight['w1'])\n",
    "    w_fake_quant1 = tf.fake_quant_with_min_max_vars(weight['w1'], \n",
    "                    min=w_min1, \n",
    "                    max=w_max1, \n",
    "                    narrow_range=True, \n",
    "                    name=\"quant_weights1\")\n",
    "    fc1 = tf.add(tf.matmul(x, w_fake_quant1), b_fake_quant1) # Linear Function\n",
    "    fc1 = tf.nn.relu(fc1) # Activation Function\n",
    "    fc1_fake_quant1 = tf.fake_quant_with_min_max_vars(fc1, \n",
    "                    min=-500.0, \n",
    "                    max=500.0, \n",
    "                    narrow_range=False,\n",
    "                    name=\"act_weights1\")\n",
    "    \n",
    "    w_min2 = tf.reduce_min(weight['w2'])\n",
    "    w_max2 = tf.reduce_max(weight['w2'])\n",
    "    w_fake_quant2 = tf.fake_quant_with_min_max_vars(weight['w2'], \n",
    "                    min=w_min2, \n",
    "                    max=w_max2, \n",
    "                    narrow_range=True, # will be explained below\n",
    "                    name=\"quant_weights2\")\n",
    "    \n",
    "    # Fully Connected Layer 2\n",
    "    fc2 = tf.add(tf.matmul(fc1_fake_quant1, w_fake_quant2), b_fake_quant2) # Linear Function\n",
    "    fc2 = tf.nn.relu(fc2) # Activation Function\n",
    "    fc2_fake_quant = tf.fake_quant_with_min_max_vars(fc2, \n",
    "                    min=-500.0, \n",
    "                    max=500.0, \n",
    "                    narrow_range=False,\n",
    "                    name=\"act_weights2\")\n",
    "    \n",
    "    w_min3 = tf.reduce_min(weight['w3'])\n",
    "    w_max3 = tf.reduce_max(weight['w3'])\n",
    "    w_fake_quant3 = tf.fake_quant_with_min_max_vars(weight['w3'], \n",
    "                    min=w_min3, \n",
    "                    max=w_max3, \n",
    "                    narrow_range=True,\n",
    "                    name=\"quant_weights3\")\n",
    "    # Ouput Layer\n",
    "    out = tf.add(tf.matmul(fc2_fake_quant, w_fake_quant3), b_fake_quant3) # Output Layer\n",
    "    \n",
    "    return out"
   ]
  },
  {
   "cell_type": "markdown",
   "metadata": {},
   "source": [
    "#Training the model <BR>\n",
    "<B>Logits</B> is interpreted to be the unnormalised (or not-yet normalised) predictions (or outputs) of a model. These can give results, but we don't normally stop with logits, because interpreting their raw values is not easy."
   ]
  },
  {
   "cell_type": "code",
   "execution_count": 284,
   "metadata": {},
   "outputs": [],
   "source": [
    "# Get probabilities for the input for all the classes\n",
    "logits = lenet_300_100(X, weights, biases)"
   ]
  },
  {
   "cell_type": "markdown",
   "metadata": {},
   "source": [
    "##Cross Entropy Loss \n",
    "Compute the cross entropy loss for the model for all classes. Cross Entropy is a continuous function that is always positive and if the predicted output of the model exactly \n",
    " matches the desired output then the cross entropy loss equals zero. The goal of the optimization is therefore to minimize the cross-entropy loss so it gets as close to zero \n",
    " as possible by changing the weights and biases of the model."
   ]
  },
  {
   "cell_type": "code",
   "execution_count": 285,
   "metadata": {},
   "outputs": [],
   "source": [
    "cross_entropy = tf.nn.softmax_cross_entropy_with_logits_v2(logits = logits, labels = Y)"
   ]
  },
  {
   "cell_type": "markdown",
   "metadata": {},
   "source": [
    "We have calculated the cross-entropy for each of the image classifications so we have a measure of how well the model performs on each image individually but in order to use \n",
    "the cross-entropy to guide the optimization of the model;s variables we need a single scalar value, so we simply take the mean of the cross-entropy for all the image \n",
    "classifications."
   ]
  },
  {
   "cell_type": "code",
   "execution_count": 286,
   "metadata": {},
   "outputs": [],
   "source": [
    "loss_op = tf.reduce_mean(cross_entropy)"
   ]
  },
  {
   "cell_type": "markdown",
   "metadata": {},
   "source": [
    "##Optimization "
   ]
  },
  {
   "cell_type": "code",
   "execution_count": 287,
   "metadata": {},
   "outputs": [],
   "source": [
    "# Since we have the cost in 'loss_op', variable, we need an optimizer to reduce the cost.\n",
    "optimizer = tf.train.AdamOptimizer(learning_rate = learning_rate)\n",
    "\n",
    "# Minimize the optimization function i.e. minimize the loss.\n",
    "train_op = optimizer.minimize(loss_op)"
   ]
  },
  {
   "cell_type": "markdown",
   "metadata": {},
   "source": [
    "##How to measure performace? <BR>\n",
    "We measure the accuracy by measuring the actual prediction and by calculated prediction"
   ]
  },
  {
   "cell_type": "code",
   "execution_count": 288,
   "metadata": {},
   "outputs": [],
   "source": [
    "# Get correct prediction by getting class with maximum probability and get accuracy\n",
    "correct_pred = tf.equal(tf.argmax(logits, 1), tf.argmax(Y, 1))\n",
    "\n",
    "# This calculates the classification accuracy by first type-casting the vector of booleans to floats, so that False becomes 0 and True \n",
    "# becomes 1, and then calculating the average of these numbers.\n",
    "accuracy = tf.reduce_mean(tf.cast(correct_pred, tf.float32))"
   ]
  },
  {
   "cell_type": "markdown",
   "metadata": {},
   "source": [
    "#SAVING THE MODEL"
   ]
  },
  {
   "cell_type": "code",
   "execution_count": 289,
   "metadata": {},
   "outputs": [],
   "source": [
    "#saver = tf.train.Saver([weights['w1'], weights['w2'], weights['w3'], biases['b1'], biases['b2'], biases['b3'] ])\n",
    "saver = tf.train.Saver()"
   ]
  },
  {
   "cell_type": "markdown",
   "metadata": {},
   "source": [
    "#Initializing all the variables & Running tensorflow session "
   ]
  },
  {
   "cell_type": "code",
   "execution_count": 290,
   "metadata": {},
   "outputs": [],
   "source": [
    "init = tf.global_variables_initializer()"
   ]
  },
  {
   "cell_type": "code",
   "execution_count": 291,
   "metadata": {},
   "outputs": [
    {
     "name": "stdout",
     "output_type": "stream",
     "text": [
      "Epoch 500, Cost: None, Accuracy on batch: 96.09375 %\n",
      "Train Accuracy after 500 on training data:  94.07272934913635 %\n",
      "Epoch 1000, Cost: None, Accuracy on batch: 96.484375 %\n",
      "Train Accuracy after 1000 on training data:  97.14727401733398 %\n",
      "Epoch 1500, Cost: None, Accuracy on batch: 99.21875 %\n",
      "Train Accuracy after 1500 on training data:  98.07454347610474 %\n",
      "Epoch 2000, Cost: None, Accuracy on batch: 98.046875 %\n",
      "Train Accuracy after 2000 on training data:  97.83999919891357 %\n",
      "Epoch 2500, Cost: None, Accuracy on batch: 99.609375 %\n",
      "Train Accuracy after 2500 on training data:  98.48363399505615 %\n",
      "Epoch 3000, Cost: None, Accuracy on batch: 98.4375 %\n",
      "Train Accuracy after 3000 on training data:  98.69636297225952 %\n",
      "Epoch 3500, Cost: None, Accuracy on batch: 98.4375 %\n",
      "Train Accuracy after 3500 on training data:  98.23636412620544 %\n",
      "Epoch 4000, Cost: None, Accuracy on batch: 99.21875 %\n",
      "Train Accuracy after 4000 on training data:  99.0781843662262 %\n",
      "----------------------------------------------------------------------\n",
      "\n",
      "Optimization Finished\n",
      "\n",
      "Now testing accuracy on the complete data, we have:\n",
      "\n",
      "Training Accuracy: 0.99078184\n",
      "Test Accuracy: 0.9649\n",
      "INFO:tensorflow:Froze 6 variables.\n",
      "INFO:tensorflow:Converted 6 variables to const ops.\n",
      "INFO:tensorflow:Froze 6 variables.\n",
      "INFO:tensorflow:Converted 6 variables to const ops.\n"
     ]
    }
   ],
   "source": [
    "def next_batch(batch_size, data, labels):\n",
    "    idx = np.arange(0, len(data))\n",
    "    np.random.shuffle(idx)\n",
    "    idx = idx[: batch_size]\n",
    "    data_shuffle = [data[i] for i in idx]\n",
    "    labels_shuffle = [labels[i] for i in idx]\n",
    "    return np.asarray(data_shuffle), np.asarray(labels_shuffle)\n",
    "\n",
    "\n",
    "with tf.Session() as sess:\n",
    "    # Running Initializer\n",
    "    sess.run(init)\n",
    "    \n",
    "    # For saving cost history and accuracy history on batches\n",
    "    cost_hist, acc_hist = [], []\n",
    "    for epoch in range(1, epochs + 1):\n",
    "        batch_x, batch_y = next_batch(batch_size, trainingData, trainingLabels)\n",
    "        sess.run(train_op, feed_dict = { X : batch_x, Y : batch_y })\n",
    "        if epoch % display_step == 0:\n",
    "            # Calculating Loss and Accuracy on the current Epoch\n",
    "            loss, acc = sess.run([train_op, accuracy], feed_dict = { X : batch_x, Y : batch_y })\n",
    "            cost_hist.append(loss)\n",
    "            acc_hist.append(acc)\n",
    "            print('Epoch ' + str(epoch) + ', Cost: ' + str(loss) + ', Accuracy on batch: ' + str(acc * 100) + ' %')\n",
    "            print(\"Train Accuracy after \" + str(epoch) + \" on training data: \", str(accuracy.eval({X:trainingData, Y:trainingLabels}) * 100) + ' %')\n",
    "    #W = sess.run(weights)\n",
    "    #B = sess.run(biases)\n",
    "    print('-' * 70)\n",
    "    print('\\nOptimization Finished\\n')\n",
    "    print('Now testing accuracy on the complete data, we have:\\n')\n",
    "    print(\"Training Accuracy:\", accuracy.eval({X:trainingData, Y:trainingLabels}))\n",
    "    print(\"Test Accuracy:\", accuracy.eval({X:testData, Y:testLabels}))\n",
    "    \n",
    "    # Saving the full precision model\n",
    "    converter = lite.TFLiteConverter.from_session(sess, [X], [logits])\n",
    "    tflite_model = converter.convert()\n",
    "    open(\"FullPrecision_float32_model.tflite\", \"wb\").write(tflite_model)\n",
    "    \n",
    "    # Saving the quantized model\n",
    "    converter = lite.TFLiteConverter.from_session(sess, [X], [logits])\n",
    "    converter.inference_input_type = tf.float32\n",
    "    converter.default_ranges_stats = (0., 6.)\n",
    "    input_mean = 128\n",
    "    input_stddev = 255\n",
    "    input_arrays = converter.get_input_arrays()\n",
    "    converter.quantized_input_stats = {input_arrays[0] : (input_mean, input_stddev)}\n",
    "    converter.post_training_quantize = True\n",
    "    tflite_model = converter.convert()\n",
    "    open(\"Quantized_int8_model.tflite\", \"wb\").write(tflite_model)\n",
    "    "
   ]
  },
  {
   "cell_type": "code",
   "execution_count": 292,
   "metadata": {},
   "outputs": [],
   "source": [
    "sess.close()"
   ]
  }
 ],
 "metadata": {
  "kernelspec": {
   "display_name": "Python 3",
   "language": "python",
   "name": "python3"
  },
  "language_info": {
   "codemirror_mode": {
    "name": "ipython",
    "version": 3
   },
   "file_extension": ".py",
   "mimetype": "text/x-python",
   "name": "python",
   "nbconvert_exporter": "python",
   "pygments_lexer": "ipython3",
   "version": "3.7.2"
  }
 },
 "nbformat": 4,
 "nbformat_minor": 2
}
