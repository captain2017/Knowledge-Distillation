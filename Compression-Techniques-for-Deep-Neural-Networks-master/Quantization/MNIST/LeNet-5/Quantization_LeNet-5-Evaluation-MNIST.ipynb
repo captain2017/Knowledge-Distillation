{
 "cells": [
  {
   "cell_type": "code",
   "execution_count": 5,
   "metadata": {},
   "outputs": [],
   "source": [
    "# Author: Naveen Lalwani\n",
    "# Script to evaluate speed and accuracy of the compressed and baseline model LeNet-5 on MNIST dataset\n\n",
    "import tensorflow as tf\n",
    "import numpy as np\n",
    "import time\n\n",
    "config = tf.ConfigProto()\n",
    "config.gpu_options.allow_growth = True"
   ]
  },
  {
   "cell_type": "markdown",
   "metadata": {},
   "source": [
    "<B> Evaluation of LeNet5 float32 and int8 model on the MNIST Test dataset </B>"
   ]
  },
  {
   "cell_type": "code",
   "execution_count": 6,
   "metadata": {},
   "outputs": [
    {
     "name": "stdout",
     "output_type": "stream",
     "text": [
      "Extracting MNIST_data/train-images-idx3-ubyte.gz\n",
      "Extracting MNIST_data/train-labels-idx1-ubyte.gz\n",
      "Extracting MNIST_data/t10k-images-idx3-ubyte.gz\n",
      "Extracting MNIST_data/t10k-labels-idx1-ubyte.gz\n"
     ]
    }
   ],
   "source": [
    "from tensorflow.examples.tutorials.mnist import input_data\n",
    "mnist = input_data.read_data_sets(\"MNIST_data/\", reshape = False, one_hot=True)"
   ]
  },
  {
   "cell_type": "code",
   "execution_count": 7,
   "metadata": {},
   "outputs": [
    {
     "name": "stdout",
     "output_type": "stream",
     "text": [
      "Number of test examples =  10000\n",
      "Test Data shape =  (10000, 32, 32, 1)\n",
      "Test Data labels shape =  (10000, 10)\n"
     ]
    }
   ],
   "source": [
    "numTest = mnist.test.images.shape[0]\n",
    "testData = mnist.test.images\n",
    "testLabels = mnist.test.labels\n",
    "testData = np.pad(testData, ((0,0),(2,2),(2,2),(0,0)), 'constant')\n",
    "print(\"Number of test examples = \", numTest)\n",
    "print(\"Test Data shape = \", testData.shape)\n",
    "print(\"Test Data labels shape = \", testLabels.shape)"
   ]
  },
  {
   "cell_type": "code",
   "execution_count": 8,
   "metadata": {},
   "outputs": [],
   "source": [
    "interpreter = tf.lite.Interpreter(model_path=\"C://users/navee/LeNet-5_MNIST_models/Rerun/LeNet5_int8_model.tflite\")\n",
    "interpreter.allocate_tensors()\n",
    "input_index = interpreter.get_input_details()[0][\"index\"]"
   ]
  },
  {
   "cell_type": "code",
   "execution_count": 9,
   "metadata": {},
   "outputs": [
    {
     "name": "stdout",
     "output_type": "stream",
     "text": [
      "Inference Time = 2.7815558910369873\n"
     ]
    }
   ],
   "source": [
    "start = time.time()\n",
    "count = 0\n",
    "for i in range(numTest):\n",
    "    input_data = np.array(testData[i].reshape([1, 32, 32, 1]), dtype = np.float32)\n",
    "    interpreter.set_tensor(input_index, input_data)\n",
    "    interpreter.invoke()\n",
    "    output_details = interpreter.get_output_details()\n",
    "    output_index = output_details[0]['index']\n",
    "    output_data = interpreter.get_tensor(output_index)\n",
    "    pred_model = np.argmax(output_data)\n",
    "    pred_data = np.argmax(testLabels[i])\n",
    "    if(pred_model == pred_data):\n",
    "        count += 1\n",
    "end = time.time()\n",
    "print(\"Inference Time = \", end - start) "
   ]
  },
  {
   "cell_type": "code",
   "execution_count": 10,
   "metadata": {},
   "outputs": [
    {
     "name": "stdout",
     "output_type": "stream",
     "text": [
      "Accuracy = 98.42\n"
     ]
    }
   ],
   "source": [
    "print(\"Accuracy = \", str((count / numTest) * 100))"
   ]
  },
  {
   "cell_type": "code",
   "execution_count": 11,
   "metadata": {},
   "outputs": [
    {
     "name": "stdout",
     "output_type": "stream",
     "text": [
      "Inference Time = 3.5877184867858887\n"
     ]
    }
   ],
   "source": [
    "interpreter = tf.lite.Interpreter(model_path=\"C://users/navee/LeNet-5_MNIST_models/Rerun/LeNet5_float32_model.tflite\")\n",
    "interpreter.allocate_tensors()\n",
    "input_index = interpreter.get_input_details()[0][\"index\"]\n",
    "start = time.time()\n",
    "count = 0\n",
    "for i in range(numTest):\n",
    "    input_data = np.array(testData[i].reshape([1, 32, 32, 1]), dtype = np.float32)\n",
    "    interpreter.set_tensor(input_index, input_data)\n",
    "    interpreter.invoke()\n",
    "    output_details = interpreter.get_output_details()\n",
    "    output_index = output_details[0]['index']\n",
    "    output_data = interpreter.get_tensor(output_index)\n",
    "    pred_model = np.argmax(output_data)\n",
    "    pred_data = np.argmax(testLabels[i])\n",
    "    if(pred_model == pred_data):\n",
    "        count += 1\n",
    "end = time.time()\n",
    "print(\"Inference Time = \", end - start) "
   ]
  },
  {
   "cell_type": "code",
   "execution_count": 12,
   "metadata": {},
   "outputs": [
    {
     "name": "stdout",
     "output_type": "stream",
     "text": [
      "Accuracy = 98.44000000000001\n"
     ]
    }
   ],
   "source": [
    "print(\"Accuracy = \", str((count / numTest) * 100))"
   ]
  }
 ],
 "metadata": {
  "kernelspec": {
   "display_name": "Python 3",
   "language": "python",
   "name": "python3"
  },
  "language_info": {
   "codemirror_mode": {
    "name": "ipython",
    "version": 3
   },
   "file_extension": ".py",
   "mimetype": "text/x-python",
   "name": "python",
   "nbconvert_exporter": "python",
   "pygments_lexer": "ipython3",
   "version": "3.7.2"
  }
 },
 "nbformat": 4,
 "nbformat_minor": 2
}
