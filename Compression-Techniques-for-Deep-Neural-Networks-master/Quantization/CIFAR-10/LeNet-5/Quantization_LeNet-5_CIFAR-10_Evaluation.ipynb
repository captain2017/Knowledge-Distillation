{
 "cells": [
  {
   "cell_type": "code",
   "execution_count": 38,
   "metadata": {},
   "outputs": [],
   "source": [
    "# Author: Naveen Lalwani\n",
    "# Script to evaluate speed and accuracy of the compressed and baseline model LeNet-5 on CIFAR-10\n\n",
    "import numpy as np\n",
    "import tensorflow as tf\n\n",
    "config = tf.ConfigProto()\n",
    "config.gpu_options.allow_growth = True\n\n",
    "import matplotlib.pyplot as plt\n",
    "from collections import Counter\n",
    "from tensorflow.contrib import lite\n",
    "from keras.utils import np_utils\n",
    "from sklearn.utils import shuffle\n",
    "import time"
   ]
  },
  {
   "cell_type": "markdown",
   "metadata": {},
   "source": [
    "<B> Loading and Preprocessing CIFAR-10 Data </B>"
   ]
  },
  {
   "cell_type": "code",
   "execution_count": 39,
   "metadata": {},
   "outputs": [],
   "source": [
    "(x_train, y_train), (x_test, y_test) =  tf.keras.datasets.cifar10.load_data()\n",
    "num_classes = 10\n",
    "# One Hot Encoding\n",
    "y_test = np_utils.to_categorical(y_test, num_classes)\n",
    "\n",
    "# Normalizing Data\n",
    "x_test = x_test.astype('float32')\n",
    "x_test /= 255"
   ]
  },
  {
   "cell_type": "markdown",
   "metadata": {},
   "source": [
    "<B> Running Inferences on int8 and Float32 LeNet-5 model on CIFAR-10 dataset </B>"
   ]
  },
  {
   "cell_type": "code",
   "execution_count": 40,
   "metadata": {},
   "outputs": [],
   "source": [
    "interpreter = tf.lite.Interpreter(model_path=\"C://users/navee/LeNet-5_CIFAR10/Submit/LeNet5_int8_model_CIFAR-10.tflite\")\n",
    "interpreter.allocate_tensors()\n",
    "input_index = interpreter.get_input_details()[0][\"index\"]"
   ]
  },
  {
   "cell_type": "code",
   "execution_count": 41,
   "metadata": {},
   "outputs": [
    {
     "name": "stdout",
     "output_type": "stream",
     "text": [
      "Inference Time = 6.6678078174591064\n"
     ]
    }
   ],
   "source": [
    "with tf.device(\"/gpu:0\"):\n",
    "    start = time.time()\n",
    "    count = 0\n",
    "    for i in range(len(x_test)):\n",
    "        input_data = np.array(x_test[i].reshape([1, 32, 32, 3]), dtype = np.float32)\n",
    "        interpreter.set_tensor(input_index, input_data)\n",
    "        interpreter.invoke()\n",
    "        output_details = interpreter.get_output_details()\n",
    "        output_index = output_details[0]['index']\n",
    "        output_data = interpreter.get_tensor(output_index)\n",
    "        pred_model = np.argmax(output_data)\n",
    "        pred_data = np.argmax(y_test[i])\n",
    "        if(pred_model == pred_data):\n",
    "            count += 1\n",
    "    end = time.time()\n",
    "    print(\"Inference Time = \", end - start) "
   ]
  },
  {
   "cell_type": "code",
   "execution_count": 42,
   "metadata": {},
   "outputs": [
    {
     "name": "stdout",
     "output_type": "stream",
     "text": [
      "Accuracy = 61.09\n"
     ]
    }
   ],
   "source": [
    "print(\"Accuracy = \", str((count / len(x_test)) * 100))"
   ]
  },
  {
   "cell_type": "code",
   "execution_count": 43,
   "metadata": {},
   "outputs": [
    {
     "name": "stdout",
     "output_type": "stream",
     "text": [
      "Inference Time = 10.656686782836914\n"
     ]
    }
   ],
   "source": [
    "with tf.device(\"/gpu:0\"):\n",
    "    interpreter = tf.lite.Interpreter(model_path=\"C://users/navee//LeNet-5_CIFAR10/Submit/LeNet5_float32_model_CIFAR-10.tflite\")\n",
    "    interpreter.allocate_tensors()\n",
    "    input_index = interpreter.get_input_details()[0][\"index\"]\n",
    "    start = time.time()\n",
    "    count = 0\n",
    "    for i in range(len(x_test)):\n",
    "        input_data = np.array(x_test[i].reshape([1, 32, 32, 3]), dtype = np.float32)\n",
    "        interpreter.set_tensor(input_index, input_data)\n",
    "        interpreter.invoke()\n",
    "        output_details = interpreter.get_output_details()\n",
    "        output_index = output_details[0]['index']\n",
    "        output_data = interpreter.get_tensor(output_index)\n",
    "        pred_model = np.argmax(output_data)\n",
    "        pred_data = np.argmax(y_test[i])\n",
    "        if(pred_model == pred_data):\n",
    "            count += 1\n",
    "    end = time.time()\n",
    "    print(\"Inference Time = \", end - start) "
   ]
  },
  {
   "cell_type": "code",
   "execution_count": 44,
   "metadata": {},
   "outputs": [
    {
     "name": "stdout",
     "output_type": "stream",
     "text": [
      "Accuracy = 61.3\n"
     ]
    }
   ],
   "source": [
    "print(\"Accuracy = \", str((count / len(x_test)) * 100))"
   ]
  }
 ],
 "metadata": {
  "kernelspec": {
   "display_name": "Python 3",
   "language": "python",
   "name": "python3"
  },
  "language_info": {
   "codemirror_mode": {
    "name": "ipython",
    "version": 3
   },
   "file_extension": ".py",
   "mimetype": "text/x-python",
   "name": "python",
   "nbconvert_exporter": "python",
   "pygments_lexer": "ipython3",
   "version": "3.7.2"
  }
 },
 "nbformat": 4,
 "nbformat_minor": 2
}
