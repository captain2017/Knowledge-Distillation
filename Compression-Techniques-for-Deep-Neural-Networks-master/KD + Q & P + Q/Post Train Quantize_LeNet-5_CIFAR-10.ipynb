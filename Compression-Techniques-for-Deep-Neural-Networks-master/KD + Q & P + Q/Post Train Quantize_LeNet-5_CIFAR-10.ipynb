{
 "cells": [
  {
   "cell_type": "code",
   "execution_count": null,
   "metadata": {},
   "outputs": [],
   "source": [
    "# Author: Naveen Lalwani\n",
    "# Script to convert model from .h5 to .tflite; post train quantize models and evaluate performance of\n",
    "# LeNet-5 on CIFAR-10\n\n",
    "import tensorflow as tf\n",
    "import keras\n",
    "import numpy as np\n",
    "import time\n",
    "from tensorflow.contrib import lite\n",
    "from keras.utils import np_utils\n",
    "import os"
   ]
  },
  {
   "cell_type": "markdown",
   "metadata": {},
   "source": [
    "###Loading CIFAR 10 Dataset"
   ]
  },
  {
   "cell_type": "code",
   "execution_count": null,
   "metadata": {},
   "outputs": [],
   "source": [
    "(x_train, y_train), (x_test, y_test) =  tf.keras.datasets.cifar10.load_data()\n",
    "num_classes = 10\n",
    "# One Hot Encoding\n",
    "y_test = np_utils.to_categorical(y_test, num_classes)\n",
    "\n",
    "# Normalizing Data\n",
    "x_test = x_test.astype('float32')\n",
    "x_test /= 255"
   ]
  },
  {
   "cell_type": "markdown",
   "metadata": {},
   "source": [
    "###Code for loading keras model and converting it to tflite model"
   ]
  },
  {
   "cell_type": "code",
   "execution_count": null,
   "metadata": {},
   "outputs": [],
   "source": [
    "converter = tf.lite.TFLiteConverter.from_keras_model_file(FILEPATH/FILENAME.h5) #\"C://users/navee/Folder1/after_pruning.h5\"\"\n",
    "tflite_model = converter.convert()\n",
    "open(FILENAME.tflite, \"wb\").write(tflite_model) #\"After_Pruning.tflite\""
   ]
  },
  {
   "cell_type": "code",
   "execution_count": null,
   "metadata": {},
   "outputs": [],
   "source": [
    "interpreter = tf.lite.Interpreter(model_path=FILEPATh/FILENAME.tflite) # \"C://users/navee/Folder1/After_Pruning.tflite\"\n",
    "interpreter.allocate_tensors()\n",
    "input_index = interpreter.get_input_details()[0][\"index\"]\n",
    "start = time.time()\n",
    "count = 0\n",
    "for i in range(len(x_test)):\n",
    "    input_data = np.array(x_test[i].reshape([1, 32, 32, 3]), dtype = np.float32)\n",
    "    interpreter.set_tensor(input_index, input_data)\n",
    "    interpreter.invoke()\n",
    "    output_details = interpreter.get_output_details()\n",
    "    output_index = output_details[0]['index']\n",
    "    output_data = interpreter.get_tensor(output_index)\n",
    "    pred_model = np.argmax(output_data)\n",
    "    pred_data = np.argmax(y_test[i])\n",
    "    if(pred_model == pred_data):\n",
    "        count += 1\n",
    "end = time.time()\n",
    "print(\"Inference Time: \" + str(end - start))\n",
    "print(\"Test Accuracy = \" + (str((count / numTest) * 100)))"
   ]
  },
  {
   "cell_type": "code",
   "execution_count": null,
   "metadata": {},
   "outputs": [],
   "source": [
    "Quantization of model and saving"
   ]
  },
  {
   "cell_type": "code",
   "execution_count": null,
   "metadata": {},
   "outputs": [],
   "source": [
    "'''\n",
    "Comment these lines after running the model once so that inference can be taken.\n",
    "'''\n",
    "converter.post_training_quantize=True\n",
    "tflite_quantized_model=converter.convert()\n",
    "open(FILENAME.tflite, \"wb\").write(tflite_quantized_model) #\"quantized_model.tflite\""
   ]
  },
  {
   "cell_type": "code",
   "execution_count": null,
   "metadata": {},
   "outputs": [],
   "source": [
    "interpreter = tf.lite.Interpreter(model_path= FILEPATH/FILENAME.tflite) # \"C://users/navee/Folder1/quantized_model_CIFAR10.tflite\"\n",
    "interpreter.allocate_tensors()\n",
    "input_index = interpreter.get_input_details()[0][\"index\"]\n",
    "start = time.time()\n",
    "count = 0\n",
    "for i in range(len(x_test)):\n",
    "    input_data = np.array(x_test[i].reshape([1, 32, 32, 3]), dtype = np.float32)\n",
    "    interpreter.set_tensor(input_index, input_data)\n",
    "    interpreter.invoke()\n",
    "    output_details = interpreter.get_output_details()\n",
    "    output_index = output_details[0]['index']\n",
    "    output_data = interpreter.get_tensor(output_index)\n",
    "    pred_model = np.argmax(output_data)\n",
    "    pred_data = np.argmax(y_test[i])\n",
    "    if(pred_model == pred_data):\n",
    "        count += 1\n",
    "end = time.time()\n",
    "print(\"Inference Time: \" + str(end - start))\n",
    "print(\"Test Accuracy = \" + (str((count / numTest) * 100)))"
   ]
  }
 ],
 "metadata": {
  "kernelspec": {
   "display_name": "Python 3",
   "language": "python",
   "name": "python3"
  },
  "language_info": {
   "codemirror_mode": {
    "name": "ipython",
    "version": 3
   },
   "file_extension": ".py",
   "mimetype": "text/x-python",
   "name": "python",
   "nbconvert_exporter": "python",
   "pygments_lexer": "ipython3",
   "version": "3.6.8"
  }
 },
 "nbformat": 4,
 "nbformat_minor": 2
}
