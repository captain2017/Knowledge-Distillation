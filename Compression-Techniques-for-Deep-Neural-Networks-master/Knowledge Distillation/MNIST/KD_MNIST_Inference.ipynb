{
 "cells": [
  {
   "cell_type": "code",
   "execution_count": 79,
   "metadata": {},
   "outputs": [],
   "source": [
    "# Author: Naveen Lalwani\n",
    "# Script to evaluate speed and inference time of various student models\n\n",
    "import tensorflow as tf\n",
    "import numpy as np\n",
    "import time"
   ]
  },
  {
   "cell_type": "code",
   "execution_count": 80,
   "metadata": {},
   "outputs": [
    {
     "name": "stdout",
     "output_type": "stream",
     "text": [
      "Extracting MNIST_data/train-images-idx3-ubyte.gz\n",
      "Extracting MNIST_data/train-labels-idx1-ubyte.gz\n",
      "Extracting MNIST_data/t10k-images-idx3-ubyte.gz\n",
      "Extracting MNIST_data/t10k-labels-idx1-ubyte.gz\n"
     ]
    }
   ],
   "source": [
    "from tensorflow.examples.tutorials.mnist import input_data\n",
    "mnist = input_data.read_data_sets(\"MNIST_data/\", reshape = False, one_hot=True)"
   ]
  },
  {
   "cell_type": "code",
   "execution_count": 81,
   "metadata": {},
   "outputs": [
    {
     "name": "stdout",
     "output_type": "stream",
     "text": [
      "Number of test examples =  10000\n",
      "Test Data shape =  (10000, 28, 28, 1)\n",
      "Test Data labels shape =  (10000, 10)\n"
     ]
    }
   ],
   "source": [
    "numTest = mnist.test.images.shape[0]\n",
    "testData = mnist.test.images[:numTest,:]\n",
    "testLabels = mnist.test.labels[:numTest,:]\n",
    "print(\"Number of test examples = \", numTest)\n",
    "print(\"Test Data shape = \", testData.shape)\n",
    "print(\"Test Data labels shape = \", testLabels.shape)"
   ]
  },
  {
   "cell_type": "code",
   "execution_count": 82,
   "metadata": {},
   "outputs": [],
   "source": [
    "# Original student model with no knowledge distillation\n",
    "interpreter = tf.lite.Interpreter(model_path=\"C://users/navee/Knowledge Distillation/Student_model.tflite\")\n",
    "interpreter.allocate_tensors()\n",
    "input_index = interpreter.get_input_details()[0][\"index\"]"
   ]
  },
  {
   "cell_type": "code",
   "execution_count": 83,
   "metadata": {},
   "outputs": [
    {
     "name": "stdout",
     "output_type": "stream",
     "text": [
      "Inference Time: 0.5271549224853516\n",
      "Accuracy = 86.57000000000001\n"
     ]
    }
   ],
   "source": [
    "start = time.time()\n",
    "count = 0\n",
    "for i in range(numTest):\n",
    "    input_data = np.array(testData[i].reshape([1, 784]), dtype = np.float32)\n",
    "    interpreter.set_tensor(input_index, input_data)\n",
    "    interpreter.invoke()\n",
    "    output_details = interpreter.get_output_details()\n",
    "    output_index = output_details[0]['index']\n",
    "    output_data = interpreter.get_tensor(output_index)\n",
    "    pred_model = np.argmax(output_data)\n",
    "    pred_data = np.argmax(testLabels[i])\n",
    "    if(pred_model == pred_data):\n",
    "        count += 1\n",
    "end = time.time()\n",
    "print(\"Inference Time: \" + str(end - start))\n",
    "print(\"Accuracy = \" + (str((count / numTest) * 100)))"
   ]
  },
  {
   "cell_type": "code",
   "execution_count": 85,
   "metadata": {},
   "outputs": [
    {
     "name": "stdout",
     "output_type": "stream",
     "text": [
      "Inference Time: 0.48842597007751465\n",
      "Accuracy = 97.24000000000001\n"
     ]
    }
   ],
   "source": [
    "# Student model which has knowledge distilled by LeNet-5\n",
    "\n",
    "interpreter = tf.lite.Interpreter(model_path=\"C://users/navee/Knowledge Distillation/Distilled_Student_model.tflite\")\n",
    "interpreter.allocate_tensors()\n",
    "input_index = interpreter.get_input_details()[0][\"index\"]\n",
    "start = time.time()\n",
    "count = 0\n",
    "for i in range(numTest):\n",
    "    input_data = np.array(testData[i].reshape([1, 784]), dtype = np.float32)\n",
    "    interpreter.set_tensor(input_index, input_data)\n",
    "    interpreter.invoke()\n",
    "    output_details = interpreter.get_output_details()\n",
    "    output_index = output_details[0]['index']\n",
    "    output_data = interpreter.get_tensor(output_index)\n",
    "    pred_model = np.argmax(output_data)\n",
    "    pred_data = np.argmax(testLabels[i])\n",
    "    if(pred_model == pred_data):\n",
    "        count += 1\n",
    "end = time.time()\n",
    "print(\"Inference Time: \" + str(end - start))\n",
    "print(\"Accuracy = \" + (str((count / numTest) * 100)))"
   ]
  },
  {
   "cell_type": "code",
   "execution_count": 86,
   "metadata": {},
   "outputs": [
    {
     "name": "stdout",
     "output_type": "stream",
     "text": [
      "Inference Time: 0.48862791061401367\n",
      "Accuracy = 96.76\n"
     ]
    }
   ],
   "source": [
    "# Student model which has knowledge distilled by LeNet-300-100\n",
    "\n",
    "interpreter = tf.lite.Interpreter(model_path=\"C://users/navee/Knowledge Distillation/Distilled_Student_model_LeNet-3-1.tflite\")\n",
    "interpreter.allocate_tensors()\n",
    "input_index = interpreter.get_input_details()[0][\"index\"]\n",
    "start = time.time()\n",
    "count = 0\n",
    "for i in range(numTest):\n",
    "    input_data = np.array(testData[i].reshape([1, 784]), dtype = np.float32)\n",
    "    interpreter.set_tensor(input_index, input_data)\n",
    "    interpreter.invoke()\n",
    "    output_details = interpreter.get_output_details()\n",
    "    output_index = output_details[0]['index']\n",
    "    output_data = interpreter.get_tensor(output_index)\n",
    "    pred_model = np.argmax(output_data)\n",
    "    pred_data = np.argmax(testLabels[i])\n",
    "    if(pred_model == pred_data):\n",
    "        count += 1\n",
    "end = time.time()\n",
    "print(\"Inference Time: \" + str(end - start))\n",
    "print(\"Accuracy = \" + (str((count / numTest) * 100)))"
   ]
  }
 ],
 "metadata": {
  "kernelspec": {
   "display_name": "Python 3",
   "language": "python",
   "name": "python3"
  },
  "language_info": {
   "codemirror_mode": {
    "name": "ipython",
    "version": 3
   },
   "file_extension": ".py",
   "mimetype": "text/x-python",
   "name": "python",
   "nbconvert_exporter": "python",
   "pygments_lexer": "ipython3",
   "version": "3.7.2"
  }
 },
 "nbformat": 4,
 "nbformat_minor": 2
}
