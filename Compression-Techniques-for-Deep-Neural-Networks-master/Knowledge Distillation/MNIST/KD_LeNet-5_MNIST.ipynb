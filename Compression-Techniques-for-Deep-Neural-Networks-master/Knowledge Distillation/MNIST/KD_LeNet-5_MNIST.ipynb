{
 "cells": [
  {
   "cell_type": "code",
   "execution_count": null,
   "metadata": {
    "colab": {
     "base_uri": "https://localhost:8080/",
     "height": 35
    },
    "colab_type": "code",
    "id": "29s60UQN48Vo",
    "outputId": "1cb3462c-d6a2-4e79-80a7-a54bda934ba9"
   },
   "outputs": [
    {
     "name": "stderr",
     "output_type": "stream",
     "text": [
      "Using TensorFlow backend.\n"
     ]
    }
   ],
   "source": [
    "# Author: Naveen Lalwani\n",
    "# Script to distill knowledge of LeNet-5 model trained on MNIST to student model\n",
    "import keras\n",
    "import numpy as np\n",
    "import tensorflow as tf\n",
    "\n",
    "config = tf.ConfigProto()\n",
    "config.gpu_options.allow_growth = True\n",
    "\n",
    "from keras.datasets import mnist\n",
    "from keras.layers import Conv2D, MaxPooling2D\n",
    "from keras.layers import Dense, Flatten, Activation\n",
    "from keras.models import Sequential, Model\n",
    "from keras import layers\n",
    "from tensorflow.keras import losses\n",
    "from tensorflow.keras.utils import to_categorical"
   ]
  },
  {
   "cell_type": "markdown",
   "metadata": {
    "colab_type": "text",
    "id": "wcD3xg1DJKav"
   },
   "source": [
    "**Preprocessing the MNIST dataset for LeNet5**"
   ]
  },
  {
   "cell_type": "code",
   "execution_count": null,
   "metadata": {
    "colab": {
     "base_uri": "https://localhost:8080/",
     "height": 52
    },
    "colab_type": "code",
    "id": "XI_RchfYJHtw",
    "outputId": "b9a8e2c7-fd7b-4e2a-e104-96671e863dee"
   },
   "outputs": [
    {
     "name": "stdout",
     "output_type": "stream",
     "text": [
      "Downloading data from https://s3.amazonaws.com/img-datasets/mnist.npz\n",
      "11493376/11490434 [==============================] - 1s 0us/step\n"
     ]
    }
   ],
   "source": [
    "(x_train, y_train), (x_test, y_test) = mnist.load_data()\n",
    "\n",
    "# Storing for smaller model\n",
    "x_train_small = x_train\n",
    "x_test_small = x_test\n",
    "\n",
    "# Reshaping for LeNet 5\n",
    "x_train = x_train.reshape(x_train.shape[0], 28, 28, 1)\n",
    "x_test = x_test.reshape(x_test.shape[0], 28, 28, 1)\n",
    "\n",
    "# Normalization\n",
    "x_train = x_train / 255\n",
    "x_test = x_test / 255\n",
    "\n",
    "# One hot encoding\n",
    "y_train = keras.utils.to_categorical(y_train, 10)\n",
    "y_test = keras.utils.to_categorical(y_test, 10)"
   ]
  },
  {
   "cell_type": "markdown",
   "metadata": {
    "colab_type": "text",
    "id": "sl_EW55dJava"
   },
   "source": [
    "# **Defining LeNet 5 Model**"
   ]
  },
  {
   "cell_type": "code",
   "execution_count": null,
   "metadata": {
    "colab": {
     "base_uri": "https://localhost:8080/",
     "height": 917
    },
    "colab_type": "code",
    "id": "rLqU7pueJZlW",
    "outputId": "6d11abb8-e1c4-4f91-9222-b58b98a22abb"
   },
   "outputs": [
    {
     "name": "stdout",
     "output_type": "stream",
     "text": [
      "WARNING:tensorflow:From /usr/local/lib/python3.6/dist-packages/tensorflow/python/framework/op_def_library.py:263: colocate_with (from tensorflow.python.framework.ops) is deprecated and will be removed in a future version.\n",
      "Instructions for updating:\n",
      "Colocations handled automatically by placer.\n",
      "WARNING:tensorflow:From /usr/local/lib/python3.6/dist-packages/tensorflow/python/ops/math_ops.py:3066: to_int32 (from tensorflow.python.ops.math_ops) is deprecated and will be removed in a future version.\n",
      "Instructions for updating:\n",
      "Use tf.cast instead.\n",
      "Train on 60000 samples, validate on 10000 samples\n",
      "Epoch 1/20\n",
      "60000/60000 [==============================] - 38s 641us/step - loss: 0.3330 - acc: 0.9006 - val_loss: 0.1047 - val_acc: 0.9668\n",
      "Epoch 2/20\n",
      "60000/60000 [==============================] - 38s 634us/step - loss: 0.0939 - acc: 0.9703 - val_loss: 0.0621 - val_acc: 0.9790\n",
      "Epoch 3/20\n",
      "60000/60000 [==============================] - 37s 621us/step - loss: 0.0661 - acc: 0.9791 - val_loss: 0.0506 - val_acc: 0.9831\n",
      "Epoch 4/20\n",
      "60000/60000 [==============================] - 37s 622us/step - loss: 0.0529 - acc: 0.9831 - val_loss: 0.0548 - val_acc: 0.9826\n",
      "Epoch 5/20\n",
      "60000/60000 [==============================] - 37s 617us/step - loss: 0.0436 - acc: 0.9858 - val_loss: 0.0384 - val_acc: 0.9885\n",
      "Epoch 6/20\n",
      "60000/60000 [==============================] - 37s 624us/step - loss: 0.0376 - acc: 0.9880 - val_loss: 0.0395 - val_acc: 0.9887\n",
      "Epoch 7/20\n",
      "60000/60000 [==============================] - 37s 616us/step - loss: 0.0308 - acc: 0.9901 - val_loss: 0.0439 - val_acc: 0.9859\n",
      "Epoch 8/20\n",
      "60000/60000 [==============================] - 45s 744us/step - loss: 0.0288 - acc: 0.9903 - val_loss: 0.0463 - val_acc: 0.9852\n",
      "Epoch 9/20\n",
      "60000/60000 [==============================] - 37s 623us/step - loss: 0.0256 - acc: 0.9915 - val_loss: 0.0354 - val_acc: 0.9889\n",
      "Epoch 10/20\n",
      "60000/60000 [==============================] - 38s 628us/step - loss: 0.0214 - acc: 0.9929 - val_loss: 0.0426 - val_acc: 0.9876\n",
      "Epoch 11/20\n",
      "60000/60000 [==============================] - 37s 622us/step - loss: 0.0194 - acc: 0.9940 - val_loss: 0.0352 - val_acc: 0.9887\n",
      "Epoch 12/20\n",
      "60000/60000 [==============================] - 38s 627us/step - loss: 0.0183 - acc: 0.9939 - val_loss: 0.0409 - val_acc: 0.9872\n",
      "Epoch 13/20\n",
      "60000/60000 [==============================] - 37s 621us/step - loss: 0.0165 - acc: 0.9944 - val_loss: 0.0409 - val_acc: 0.9883\n",
      "Epoch 14/20\n",
      "60000/60000 [==============================] - 38s 629us/step - loss: 0.0158 - acc: 0.9948 - val_loss: 0.0435 - val_acc: 0.9875\n",
      "Epoch 15/20\n",
      "60000/60000 [==============================] - 38s 629us/step - loss: 0.0118 - acc: 0.9960 - val_loss: 0.0350 - val_acc: 0.9902\n",
      "Epoch 16/20\n",
      "60000/60000 [==============================] - 38s 629us/step - loss: 0.0131 - acc: 0.9957 - val_loss: 0.0436 - val_acc: 0.9880\n",
      "Epoch 17/20\n",
      "60000/60000 [==============================] - 38s 629us/step - loss: 0.0126 - acc: 0.9956 - val_loss: 0.0489 - val_acc: 0.9885\n",
      "Epoch 18/20\n",
      "60000/60000 [==============================] - 38s 636us/step - loss: 0.0123 - acc: 0.9957 - val_loss: 0.0421 - val_acc: 0.9893\n",
      "Epoch 19/20\n",
      "60000/60000 [==============================] - 38s 629us/step - loss: 0.0087 - acc: 0.9970 - val_loss: 0.0406 - val_acc: 0.9887\n",
      "Epoch 20/20\n",
      "60000/60000 [==============================] - 38s 632us/step - loss: 0.0090 - acc: 0.9969 - val_loss: 0.0414 - val_acc: 0.9893\n",
      "10000/10000 [==============================] - 4s 400us/step\n",
      "Test Loss: 0.041350244510080486\n",
      "Test accuracy: 0.9893\n"
     ]
    }
   ],
   "source": [
    "model = Sequential()\n",
    "\n",
    "model.add(Conv2D(6, kernel_size=(5, 5), activation='relu', input_shape=(28, 28, 1)))\n",
    "model.add(MaxPooling2D(pool_size=(2, 2)))\n",
    "\n",
    "\n",
    "model.add(Conv2D(16, kernel_size=(5, 5), activation='relu'))\n",
    "model.add(MaxPooling2D(pool_size=(2, 2)))\n",
    "\n",
    "model.add(Flatten())\n",
    "\n",
    "model.add(Dense(120, activation='relu'))\n",
    "\n",
    "model.add(Dense(84, activation='relu'))\n",
    "\n",
    "# Defining activation function separately here to get the logits/ dark knowledge from teacher model\n",
    "model.add(Dense(10, name=\"logits\"))\n",
    "model.add(Activation('softmax'))          \n",
    "\n",
    "# Run model\n",
    "# Adam Optimization\n",
    "# Loss = Cross Entropy Loss\n",
    "# Epochs = 20\n",
    "model.compile(loss=keras.metrics.categorical_crossentropy, optimizer=keras.optimizers.Adam(), metrics=['accuracy'])\n",
    "model.fit(x_train, y_train, batch_size=128, epochs= 20, verbose=1, validation_data=(x_test, y_test))\n",
    "\n",
    "# Get Test Accuracy\n",
    "score = model.evaluate(x_test, y_test)\n",
    "print('Test Loss:', score[0])\n",
    "print('Test accuracy:', score[1])"
   ]
  },
  {
   "cell_type": "code",
   "execution_count": null,
   "metadata": {
    "colab": {},
    "colab_type": "code",
    "id": "i84OfIkj8FxT"
   },
   "outputs": [],
   "source": [
    "getSoftmaxKnowledge = Model(inputs=model.input, outputs=model.get_layer(\"logits\").output)\n",
    "model_logits = getSoftmaxKnowledge.predict(x_train)"
   ]
  },
  {
   "cell_type": "code",
   "execution_count": null,
   "metadata": {
    "colab": {},
    "colab_type": "code",
    "id": "0dcFB7ud8tU6"
   },
   "outputs": [],
   "source": [
    "# Defining function described by Geoffrey Hinton in his paper of Knowledge Distillation\n",
    "def softmax_with_temperature(logits, temperature):\n",
    "    logits = logits / temperature\n",
    "    return (np.exp(logits) / np.sum(np.exp(logits)))"
   ]
  },
  {
   "cell_type": "code",
   "execution_count": null,
   "metadata": {
    "colab": {},
    "colab_type": "code",
    "id": "CW72oSBg878y"
   },
   "outputs": [],
   "source": [
    "# Temperature is a hyperparameter\n",
    "temperature = 7\n",
    "softened_train_prob = softmax_with_temperature(model_logits, temperature)"
   ]
  },
  {
   "cell_type": "markdown",
   "metadata": {
    "colab_type": "text",
    "id": "eZnRCv51KoFS"
   },
   "source": [
    "# **Defining Student Model**"
   ]
  },
  {
   "cell_type": "code",
   "execution_count": null,
   "metadata": {
    "colab": {},
    "colab_type": "code",
    "id": "1nWdGT-L9BaI"
   },
   "outputs": [],
   "source": [
    "# Model Definition for the Student Model\n",
    "def build_small_model():\n",
    "    inputs = layers.Input(shape = (784,))\n",
    "    \n",
    "    x = layers.Dense(50, activation='relu', name='FC1')(inputs)\n",
    "    \n",
    "    x = layers.Dense(10, name='logits')(x)\n",
    "    \n",
    "    preds = layers.Activation('softmax', name='Softmax')(x)\n",
    "  \n",
    "    model = Model(inputs=inputs, outputs=preds)\n",
    "    model.summary()\n",
    "    return model"
   ]
  },
  {
   "cell_type": "code",
   "execution_count": null,
   "metadata": {
    "colab": {
     "base_uri": "https://localhost:8080/",
     "height": 281
    },
    "colab_type": "code",
    "id": "D0CxWQcU9Gv4",
    "outputId": "06491cdd-f815-47f4-9618-b728157c3b4a"
   },
   "outputs": [
    {
     "name": "stdout",
     "output_type": "stream",
     "text": [
      "_________________________________________________________________\n",
      "Layer (type)                 Output Shape              Param #   \n",
      "=================================================================\n",
      "input_1 (InputLayer)         (None, 784)               0         \n",
      "_________________________________________________________________\n",
      "FC1 (Dense)                  (None, 50)                39250     \n",
      "_________________________________________________________________\n",
      "logits (Dense)               (None, 10)                510       \n",
      "_________________________________________________________________\n",
      "Softmax (Activation)         (None, 10)                0         \n",
      "=================================================================\n",
      "Total params: 39,760\n",
      "Trainable params: 39,760\n",
      "Non-trainable params: 0\n",
      "_________________________________________________________________\n"
     ]
    }
   ],
   "source": [
    "small_model = build_small_model()"
   ]
  },
  {
   "cell_type": "code",
   "execution_count": null,
   "metadata": {
    "colab": {
     "base_uri": "https://localhost:8080/",
     "height": 1830
    },
    "colab_type": "code",
    "id": "UYSeF2-N9MzW",
    "outputId": "69355e94-0b6d-4261-ef4c-5dcbdc194036"
   },
   "outputs": [
    {
     "name": "stdout",
     "output_type": "stream",
     "text": [
      "Epoch 1/50\n",
      "60000/60000 [==============================] - 2s 31us/step - loss: 1.6473e-05 - categorical_accuracy: 0.8496\n",
      "Epoch 2/50\n",
      "60000/60000 [==============================] - 2s 27us/step - loss: 1.4338e-05 - categorical_accuracy: 0.9258\n",
      "Epoch 3/50\n",
      "60000/60000 [==============================] - 2s 26us/step - loss: 1.3950e-05 - categorical_accuracy: 0.9404\n",
      "Epoch 4/50\n",
      "60000/60000 [==============================] - 2s 26us/step - loss: 1.3760e-05 - categorical_accuracy: 0.9487\n",
      "Epoch 5/50\n",
      "60000/60000 [==============================] - 2s 26us/step - loss: 1.3645e-05 - categorical_accuracy: 0.9536\n",
      "Epoch 6/50\n",
      "60000/60000 [==============================] - 2s 26us/step - loss: 1.3567e-05 - categorical_accuracy: 0.9571\n",
      "Epoch 7/50\n",
      "60000/60000 [==============================] - 2s 27us/step - loss: 1.3509e-05 - categorical_accuracy: 0.9603\n",
      "Epoch 8/50\n",
      "60000/60000 [==============================] - 2s 26us/step - loss: 1.3464e-05 - categorical_accuracy: 0.9621\n",
      "Epoch 9/50\n",
      "60000/60000 [==============================] - 2s 27us/step - loss: 1.3426e-05 - categorical_accuracy: 0.9642\n",
      "Epoch 10/50\n",
      "60000/60000 [==============================] - 2s 27us/step - loss: 1.3397e-05 - categorical_accuracy: 0.9654\n",
      "Epoch 11/50\n",
      "60000/60000 [==============================] - 2s 27us/step - loss: 1.3371e-05 - categorical_accuracy: 0.9663\n",
      "Epoch 12/50\n",
      "60000/60000 [==============================] - 2s 28us/step - loss: 1.3350e-05 - categorical_accuracy: 0.9673\n",
      "Epoch 13/50\n",
      "60000/60000 [==============================] - 2s 27us/step - loss: 1.3331e-05 - categorical_accuracy: 0.9681\n",
      "Epoch 14/50\n",
      "60000/60000 [==============================] - 2s 27us/step - loss: 1.3315e-05 - categorical_accuracy: 0.9689\n",
      "Epoch 15/50\n",
      "60000/60000 [==============================] - 2s 26us/step - loss: 1.3301e-05 - categorical_accuracy: 0.9695\n",
      "Epoch 16/50\n",
      "60000/60000 [==============================] - 2s 26us/step - loss: 1.3289e-05 - categorical_accuracy: 0.9699\n",
      "Epoch 17/50\n",
      "60000/60000 [==============================] - 2s 27us/step - loss: 1.3277e-05 - categorical_accuracy: 0.9706\n",
      "Epoch 18/50\n",
      "60000/60000 [==============================] - 2s 27us/step - loss: 1.3267e-05 - categorical_accuracy: 0.9708\n",
      "Epoch 19/50\n",
      "60000/60000 [==============================] - 2s 27us/step - loss: 1.3258e-05 - categorical_accuracy: 0.9716\n",
      "Epoch 20/50\n",
      "60000/60000 [==============================] - 2s 27us/step - loss: 1.3249e-05 - categorical_accuracy: 0.9716\n",
      "Epoch 21/50\n",
      "60000/60000 [==============================] - 2s 27us/step - loss: 1.3241e-05 - categorical_accuracy: 0.9722\n",
      "Epoch 22/50\n",
      "60000/60000 [==============================] - 2s 28us/step - loss: 1.3234e-05 - categorical_accuracy: 0.9725\n",
      "Epoch 23/50\n",
      "60000/60000 [==============================] - 2s 28us/step - loss: 1.3228e-05 - categorical_accuracy: 0.9729\n",
      "Epoch 24/50\n",
      "60000/60000 [==============================] - 2s 28us/step - loss: 1.3222e-05 - categorical_accuracy: 0.9725\n",
      "Epoch 25/50\n",
      "60000/60000 [==============================] - 2s 27us/step - loss: 1.3217e-05 - categorical_accuracy: 0.9730\n",
      "Epoch 26/50\n",
      "60000/60000 [==============================] - 2s 27us/step - loss: 1.3212e-05 - categorical_accuracy: 0.9734\n",
      "Epoch 27/50\n",
      "60000/60000 [==============================] - 2s 27us/step - loss: 1.3207e-05 - categorical_accuracy: 0.9735\n",
      "Epoch 28/50\n",
      "60000/60000 [==============================] - 2s 28us/step - loss: 1.3203e-05 - categorical_accuracy: 0.9740\n",
      "Epoch 29/50\n",
      "60000/60000 [==============================] - 2s 30us/step - loss: 1.3199e-05 - categorical_accuracy: 0.9741\n",
      "Epoch 30/50\n",
      "60000/60000 [==============================] - 2s 28us/step - loss: 1.3195e-05 - categorical_accuracy: 0.9742\n",
      "Epoch 31/50\n",
      "60000/60000 [==============================] - 2s 27us/step - loss: 1.3191e-05 - categorical_accuracy: 0.9742\n",
      "Epoch 32/50\n",
      "60000/60000 [==============================] - 2s 28us/step - loss: 1.3188e-05 - categorical_accuracy: 0.9747\n",
      "Epoch 33/50\n",
      "60000/60000 [==============================] - 2s 28us/step - loss: 1.3184e-05 - categorical_accuracy: 0.9749\n",
      "Epoch 34/50\n",
      "60000/60000 [==============================] - 2s 27us/step - loss: 1.3181e-05 - categorical_accuracy: 0.9753\n",
      "Epoch 35/50\n",
      "60000/60000 [==============================] - 2s 27us/step - loss: 1.3178e-05 - categorical_accuracy: 0.9754\n",
      "Epoch 36/50\n",
      "60000/60000 [==============================] - 2s 27us/step - loss: 1.3174e-05 - categorical_accuracy: 0.9755\n",
      "Epoch 37/50\n",
      "60000/60000 [==============================] - 2s 27us/step - loss: 1.3172e-05 - categorical_accuracy: 0.9754\n",
      "Epoch 38/50\n",
      "60000/60000 [==============================] - 2s 26us/step - loss: 1.3169e-05 - categorical_accuracy: 0.9754\n",
      "Epoch 39/50\n",
      "60000/60000 [==============================] - 2s 26us/step - loss: 1.3166e-05 - categorical_accuracy: 0.9756\n",
      "Epoch 40/50\n",
      "60000/60000 [==============================] - 2s 27us/step - loss: 1.3164e-05 - categorical_accuracy: 0.9758\n",
      "Epoch 41/50\n",
      "60000/60000 [==============================] - 2s 27us/step - loss: 1.3162e-05 - categorical_accuracy: 0.9762\n",
      "Epoch 42/50\n",
      "60000/60000 [==============================] - 2s 27us/step - loss: 1.3159e-05 - categorical_accuracy: 0.9762\n",
      "Epoch 43/50\n",
      "60000/60000 [==============================] - 2s 26us/step - loss: 1.3157e-05 - categorical_accuracy: 0.9761\n",
      "Epoch 44/50\n",
      "60000/60000 [==============================] - 2s 27us/step - loss: 1.3155e-05 - categorical_accuracy: 0.9764\n",
      "Epoch 45/50\n",
      "60000/60000 [==============================] - 2s 26us/step - loss: 1.3153e-05 - categorical_accuracy: 0.9761\n",
      "Epoch 46/50\n",
      "60000/60000 [==============================] - 2s 27us/step - loss: 1.3152e-05 - categorical_accuracy: 0.9763\n",
      "Epoch 47/50\n",
      "60000/60000 [==============================] - 2s 26us/step - loss: 1.3149e-05 - categorical_accuracy: 0.9765\n",
      "Epoch 48/50\n",
      "60000/60000 [==============================] - 2s 27us/step - loss: 1.3148e-05 - categorical_accuracy: 0.9765\n",
      "Epoch 49/50\n",
      "60000/60000 [==============================] - 2s 27us/step - loss: 1.3146e-05 - categorical_accuracy: 0.9765\n",
      "Epoch 50/50\n",
      "60000/60000 [==============================] - 2s 27us/step - loss: 1.3144e-05 - categorical_accuracy: 0.9770\n",
      "10000/10000 [==============================] - 0s 32us/step\n",
      "Test Loss: 0.39349374175071716\n",
      "Test Accuracy: 0.9724\n"
     ]
    }
   ],
   "source": [
    "# Preprocessing for smaller model\n",
    "x_train = x_train_small.reshape(-1, 784)\n",
    "x_test = x_test_small.reshape(-1, 784)\n",
    "\n",
    "x_train = x_train.astype('float32')\n",
    "x_test = x_test.astype('float32')\n",
    "\n",
    "x_train /= 255\n",
    "x_test /= 255\n",
    "    \n",
    "    \n",
    "# Optimization = N Adam\n",
    "# Loss = Cross Entropy loss\n",
    "# Epochs = 50\n",
    "# Trained with dark knowledge\n",
    "small_model.compile(optimizer='Nadam', loss= 'categorical_crossentropy', metrics=['categorical_accuracy'])\n",
    "small_model.fit(x_train, softened_train_prob, epochs=50, batch_size=128)\n",
    "\n",
    "test_loss, test_acc = small_model.evaluate(x_test, y_test)\n",
    "print(\"Test Loss:\", test_loss)\n",
    "print(\"Test Accuracy:\", test_acc)"
   ]
  },
  {
   "cell_type": "code",
   "execution_count": null,
   "metadata": {
    "colab": {},
    "colab_type": "code",
    "id": "yiAGgmyCeG-P"
   },
   "outputs": [],
   "source": [
    "small_model.save('model_50.h5')\n",
    "model.save('model_LeNet5.h5')"
   ]
  }
 ],
 "metadata": {
  "colab": {
   "name": "Copy of KnowledgeDistillationLeNet5.ipynb",
   "provenance": [],
   "toc_visible": true,
   "version": "0.3.2"
  },
  "kernelspec": {
   "display_name": "Python 3",
   "language": "python",
   "name": "python3"
  },
  "language_info": {
   "codemirror_mode": {
    "name": "ipython",
    "version": 3
   },
   "file_extension": ".py",
   "mimetype": "text/x-python",
   "name": "python",
   "nbconvert_exporter": "python",
   "pygments_lexer": "ipython3",
   "version": "3.7.2"
  }
 },
 "nbformat": 4,
 "nbformat_minor": 2
}
