{
 "cells": [
  {
   "cell_type": "code",
   "execution_count": 1,
   "metadata": {
    "colab": {
     "base_uri": "https://localhost:8080/",
     "height": 35
    },
    "colab_type": "code",
    "id": "bq0CKpLHM28d",
    "outputId": "384af1fc-4b6c-49ed-bfc6-a64b89d17ce2"
   },
   "outputs": [
    {
     "name": "stderr",
     "output_type": "stream",
     "text": [
      "Using TensorFlow backend.\n"
     ]
    }
   ],
   "source": [
    "# Author: Naveen Lalwani\n",
    "# Script to distill knowledge from LeNet-300-100 trained on CIFAR-10 to student model\n\n",
    "import tensorflow as tf\n",
    "import numpy as np\n",
    "import keras\n",
    "from tensorflow.keras.datasets import mnist\n",
    "from tensorflow.keras import layers, models\n",
    "from tensorflow.keras.utils import to_categorical\n",
    "from tensorflow.keras.constraints import max_norm\n",
    "from tensorflow.keras.models import Model\n",
    "from tensorflow.keras.losses import categorical_crossentropy\n",
    "from tensorflow.keras.optimizers import RMSprop, SGD, Adam\n",
    "from keras.utils import np_utils\n",
    "import time"
   ]
  },
  {
   "cell_type": "code",
   "execution_count": null,
   "metadata": {
    "colab": {},
    "colab_type": "code",
    "id": "NrkRYyvLNFd4"
   },
   "outputs": [],
   "source": [
    "num_classes = 10\n",
    "n_input = 3072\n",
    "(x_train, y_train), (x_test, y_test) =  tf.keras.datasets.cifar10.load_data()\n",
    "\n",
    "# Enabling One Hot Encoding\n",
    "y_train = np_utils.to_categorical(y_train, num_classes)\n",
    "y_test = np_utils.to_categorical(y_test, num_classes)\n",
    "\n",
    "# Changing input image datatype to float\n",
    "x_train = x_train.astype('float32')\n",
    "x_test = x_test.astype('float32')\n",
    "\n",
    "# Normalizaig data\n",
    "x_train  /= 255\n",
    "x_test /= 255\n",
    "\n",
    "x_train = x_train.reshape([50000, 3072])\n",
    "x_test = x_test.reshape([10000, 3072])"
   ]
  },
  {
   "cell_type": "code",
   "execution_count": null,
   "metadata": {
    "colab": {},
    "colab_type": "code",
    "id": "vpjoNKIXNHQn"
   },
   "outputs": [],
   "source": [
    "# Teacher Model: LeNet-300-100\n",
    "def lenet_300_100_model():\n",
    "    inputs = layers.Input(shape = (3072,))\n",
    "    \n",
    "    x = layers.Dense(300, activation='relu', name='FC1')(inputs)\n",
    "    \n",
    "    x = layers.Dense(100, activation='relu', name='FC2')(x)\n",
    "\n",
    "    x = layers.Dense(10, name='logits')(x)\n",
    "    preds = layers.Activation('softmax', name='Softmax')(x)\n",
    "\n",
    "    model = Model(inputs=inputs, outputs=preds)\n",
    "    model.summary()\n",
    "    return model"
   ]
  },
  {
   "cell_type": "markdown",
   "metadata": {
    "colab_type": "text",
    "id": "U4C9OddFApsk"
   },
   "source": [
    "#**Build Model LeNet-300-100**"
   ]
  },
  {
   "cell_type": "code",
   "execution_count": 4,
   "metadata": {
    "colab": {
     "base_uri": "https://localhost:8080/",
     "height": 389
    },
    "colab_type": "code",
    "id": "DF54m5H3NIEp",
    "outputId": "60ea8f6d-9b65-470a-c3e1-2ee12a175097"
   },
   "outputs": [
    {
     "name": "stdout",
     "output_type": "stream",
     "text": [
      "WARNING:tensorflow:From /usr/local/lib/python3.6/dist-packages/tensorflow/python/ops/resource_variable_ops.py:435: colocate_with (from tensorflow.python.framework.ops) is deprecated and will be removed in a future version.\n",
      "Instructions for updating:\n",
      "Colocations handled automatically by placer.\n",
      "_________________________________________________________________\n",
      "Layer (type)                 Output Shape              Param #   \n",
      "=================================================================\n",
      "input_1 (InputLayer)         (None, 3072)              0         \n",
      "_________________________________________________________________\n",
      "FC1 (Dense)                  (None, 300)               921900    \n",
      "_________________________________________________________________\n",
      "FC2 (Dense)                  (None, 100)               30100     \n",
      "_________________________________________________________________\n",
      "logits (Dense)               (None, 10)                1010      \n",
      "_________________________________________________________________\n",
      "Softmax (Activation)         (None, 10)                0         \n",
      "=================================================================\n",
      "Total params: 953,010\n",
      "Trainable params: 953,010\n",
      "Non-trainable params: 0\n",
      "_________________________________________________________________\n"
     ]
    }
   ],
   "source": [
    "model = lenet_300_100_model()"
   ]
  },
  {
   "cell_type": "code",
   "execution_count": 5,
   "metadata": {
    "colab": {
     "base_uri": "https://localhost:8080/",
     "height": 811
    },
    "colab_type": "code",
    "id": "5Ux0E3V7NKhr",
    "outputId": "c524948b-0eb8-4cec-bf81-315869edeb94"
   },
   "outputs": [
    {
     "name": "stdout",
     "output_type": "stream",
     "text": [
      "WARNING:tensorflow:From /usr/local/lib/python3.6/dist-packages/tensorflow/python/ops/math_ops.py:3066: to_int32 (from tensorflow.python.ops.math_ops) is deprecated and will be removed in a future version.\n",
      "Instructions for updating:\n",
      "Use tf.cast instead.\n",
      "Epoch 1/20\n",
      "50000/50000 [==============================] - 13s 253us/sample - loss: 2.0006 - categorical_accuracy: 0.2807\n",
      "Epoch 2/20\n",
      "50000/50000 [==============================] - 12s 239us/sample - loss: 1.8121 - categorical_accuracy: 0.3603\n",
      "Epoch 3/20\n",
      "50000/50000 [==============================] - 12s 242us/sample - loss: 1.7368 - categorical_accuracy: 0.3877\n",
      "Epoch 4/20\n",
      "50000/50000 [==============================] - 12s 237us/sample - loss: 1.6725 - categorical_accuracy: 0.4106\n",
      "Epoch 5/20\n",
      "50000/50000 [==============================] - 13s 268us/sample - loss: 1.6206 - categorical_accuracy: 0.4288\n",
      "Epoch 6/20\n",
      "50000/50000 [==============================] - 12s 246us/sample - loss: 1.5734 - categorical_accuracy: 0.4465\n",
      "Epoch 7/20\n",
      "50000/50000 [==============================] - 12s 237us/sample - loss: 1.5423 - categorical_accuracy: 0.4528\n",
      "Epoch 8/20\n",
      "50000/50000 [==============================] - 12s 234us/sample - loss: 1.5134 - categorical_accuracy: 0.4641\n",
      "Epoch 9/20\n",
      "50000/50000 [==============================] - 12s 237us/sample - loss: 1.4914 - categorical_accuracy: 0.4734\n",
      "Epoch 10/20\n",
      "50000/50000 [==============================] - 12s 241us/sample - loss: 1.4809 - categorical_accuracy: 0.4751\n",
      "Epoch 11/20\n",
      "50000/50000 [==============================] - 12s 237us/sample - loss: 1.4661 - categorical_accuracy: 0.4801\n",
      "Epoch 12/20\n",
      "50000/50000 [==============================] - 12s 241us/sample - loss: 1.4380 - categorical_accuracy: 0.4929\n",
      "Epoch 13/20\n",
      "50000/50000 [==============================] - 12s 235us/sample - loss: 1.4155 - categorical_accuracy: 0.5010\n",
      "Epoch 14/20\n",
      "50000/50000 [==============================] - 12s 236us/sample - loss: 1.4090 - categorical_accuracy: 0.5056\n",
      "Epoch 15/20\n",
      "50000/50000 [==============================] - 12s 237us/sample - loss: 1.3863 - categorical_accuracy: 0.5122\n",
      "Epoch 16/20\n",
      "50000/50000 [==============================] - 12s 233us/sample - loss: 1.3710 - categorical_accuracy: 0.5158\n",
      "Epoch 17/20\n",
      "50000/50000 [==============================] - 12s 234us/sample - loss: 1.3633 - categorical_accuracy: 0.5183\n",
      "Epoch 18/20\n",
      "50000/50000 [==============================] - 12s 238us/sample - loss: 1.3537 - categorical_accuracy: 0.5231\n",
      "Epoch 19/20\n",
      "50000/50000 [==============================] - 12s 236us/sample - loss: 1.3320 - categorical_accuracy: 0.5294\n",
      "Epoch 20/20\n",
      "50000/50000 [==============================] - 12s 237us/sample - loss: 1.3210 - categorical_accuracy: 0.5342\n"
     ]
    },
    {
     "data": {
      "text/plain": [
       "<tensorflow.python.keras.callbacks.History at 0x7f6011c85c18>"
      ]
     },
     "execution_count": 5,
     "metadata": {
      "tags": []
     },
     "output_type": "execute_result"
    }
   ],
   "source": [
    "model.compile(optimizer='adam', loss='categorical_crossentropy', metrics=['categorical_accuracy'])\n",
    "model.fit(x_train, y_train, epochs=20, batch_size = 512) "
   ]
  },
  {
   "cell_type": "code",
   "execution_count": 6,
   "metadata": {
    "colab": {
     "base_uri": "https://localhost:8080/",
     "height": 70
    },
    "colab_type": "code",
    "id": "HqJk8ectNMkJ",
    "outputId": "3ebe2d03-c0fb-485b-a44e-e5c05868f826"
   },
   "outputs": [
    {
     "name": "stdout",
     "output_type": "stream",
     "text": [
      "10000/10000 [==============================] - 2s 200us/sample - loss: 1.4184 - categorical_accuracy: 0.5035\n",
      "Test Loss: 1.4184400548934937\n",
      "Test Accuracy: 0.5035\n"
     ]
    }
   ],
   "source": [
    "test_loss, test_acc = model.evaluate(x_test, y_test)\n",
    "print(\"Test Loss:\", test_loss)\n",
    "print(\"Test Accuracy:\", test_acc)"
   ]
  },
  {
   "cell_type": "code",
   "execution_count": null,
   "metadata": {
    "colab": {},
    "colab_type": "code",
    "id": "vINHLjraNlXm"
   },
   "outputs": [],
   "source": [
    "getSoftmaxKnowledge = Model(inputs=model.input, outputs=model.get_layer(\"logits\").output)\n",
    "model_logits = getSoftmaxKnowledge.predict(x_train)"
   ]
  },
  {
   "cell_type": "code",
   "execution_count": null,
   "metadata": {
    "colab": {},
    "colab_type": "code",
    "id": "GH2ZG8cFNyh2"
   },
   "outputs": [],
   "source": [
    "# Defining function described by Geoffrey Hinton in his paper of Knowledge Distillation\n",
    "def softmax_with_temperature(logits, temperature):\n",
    "    logits = logits / temperature\n",
    "    return (np.exp(logits) / np.sum(np.exp(logits)))"
   ]
  },
  {
   "cell_type": "code",
   "execution_count": null,
   "metadata": {
    "colab": {},
    "colab_type": "code",
    "id": "1KDZU8oAOLzo"
   },
   "outputs": [],
   "source": [
    "# Temperature is a hyperparameter\n",
    "temperature = 2\n",
    "softened_train_prob = softmax_with_temperature(model_logits, temperature)"
   ]
  },
  {
   "cell_type": "code",
   "execution_count": null,
   "metadata": {
    "colab": {},
    "colab_type": "code",
    "id": "zVJnoR5oObMV"
   },
   "outputs": [],
   "source": [
    "# Model Definition for the Student Model\n",
    "def build_small_model():\n",
    "    inputs = layers.Input(shape = (3072,))\n",
    "    \n",
    "    x = layers.Dense(50, activation='relu', name='FC1')(inputs)\n",
    "    \n",
    "    x = layers.Dense(10, name='logits')(x)\n",
    "    \n",
    "    preds = layers.Activation('softmax', name='Softmax')(x)\n",
    "  \n",
    "    model = Model(inputs=inputs, outputs=preds)\n",
    "    model.summary()\n",
    "    return model"
   ]
  },
  {
   "cell_type": "code",
   "execution_count": 48,
   "metadata": {
    "colab": {
     "base_uri": "https://localhost:8080/",
     "height": 281
    },
    "colab_type": "code",
    "id": "BiZ8cWtYOy3B",
    "outputId": "670d27f0-5ce8-4e85-a466-27091864f2e4"
   },
   "outputs": [
    {
     "name": "stdout",
     "output_type": "stream",
     "text": [
      "_________________________________________________________________\n",
      "Layer (type)                 Output Shape              Param #   \n",
      "=================================================================\n",
      "input_11 (InputLayer)        (None, 3072)              0         \n",
      "_________________________________________________________________\n",
      "FC1 (Dense)                  (None, 50)                153650    \n",
      "_________________________________________________________________\n",
      "logits (Dense)               (None, 10)                510       \n",
      "_________________________________________________________________\n",
      "Softmax (Activation)         (None, 10)                0         \n",
      "=================================================================\n",
      "Total params: 154,160\n",
      "Trainable params: 154,160\n",
      "Non-trainable params: 0\n",
      "_________________________________________________________________\n"
     ]
    }
   ],
   "source": [
    "small_model = build_small_model()"
   ]
  },
  {
   "cell_type": "markdown",
   "metadata": {
    "colab_type": "text",
    "id": "KNtyE55UA-Fi"
   },
   "source": [
    "# **Distilling Knowledge in the student model**"
   ]
  },
  {
   "cell_type": "code",
   "execution_count": 49,
   "metadata": {
    "colab": {
     "base_uri": "https://localhost:8080/",
     "height": 1830
    },
    "colab_type": "code",
    "id": "__MrMb0mO9Gm",
    "outputId": "38a3e88f-add7-4199-bbfb-c47094d61110"
   },
   "outputs": [
    {
     "name": "stdout",
     "output_type": "stream",
     "text": [
      "Epoch 1/50\n",
      "50000/50000 [==============================] - 3s 60us/sample - loss: 3.9586e-05 - categorical_accuracy: 0.4213\n",
      "Epoch 2/50\n",
      "50000/50000 [==============================] - 3s 58us/sample - loss: 3.7143e-05 - categorical_accuracy: 0.5606\n",
      "Epoch 3/50\n",
      "50000/50000 [==============================] - 3s 58us/sample - loss: 3.6347e-05 - categorical_accuracy: 0.6235\n",
      "Epoch 4/50\n",
      "50000/50000 [==============================] - 3s 59us/sample - loss: 3.5920e-05 - categorical_accuracy: 0.6576\n",
      "Epoch 5/50\n",
      "50000/50000 [==============================] - 3s 59us/sample - loss: 3.5678e-05 - categorical_accuracy: 0.6822\n",
      "Epoch 6/50\n",
      "50000/50000 [==============================] - 3s 61us/sample - loss: 3.5531e-05 - categorical_accuracy: 0.6965\n",
      "Epoch 7/50\n",
      "50000/50000 [==============================] - 3s 59us/sample - loss: 3.5440e-05 - categorical_accuracy: 0.7084\n",
      "Epoch 8/50\n",
      "50000/50000 [==============================] - 3s 59us/sample - loss: 3.5359e-05 - categorical_accuracy: 0.7223\n",
      "Epoch 9/50\n",
      "50000/50000 [==============================] - 3s 59us/sample - loss: 3.5315e-05 - categorical_accuracy: 0.7275\n",
      "Epoch 10/50\n",
      "50000/50000 [==============================] - 3s 59us/sample - loss: 3.5272e-05 - categorical_accuracy: 0.7348\n",
      "Epoch 11/50\n",
      "50000/50000 [==============================] - 3s 60us/sample - loss: 3.5218e-05 - categorical_accuracy: 0.7398\n",
      "Epoch 12/50\n",
      "50000/50000 [==============================] - 3s 60us/sample - loss: 3.5195e-05 - categorical_accuracy: 0.7445\n",
      "Epoch 13/50\n",
      "50000/50000 [==============================] - 3s 61us/sample - loss: 3.5164e-05 - categorical_accuracy: 0.7467\n",
      "Epoch 14/50\n",
      "50000/50000 [==============================] - 3s 59us/sample - loss: 3.5146e-05 - categorical_accuracy: 0.7526\n",
      "Epoch 15/50\n",
      "50000/50000 [==============================] - 3s 59us/sample - loss: 3.5112e-05 - categorical_accuracy: 0.7577\n",
      "Epoch 16/50\n",
      "50000/50000 [==============================] - 3s 61us/sample - loss: 3.5088e-05 - categorical_accuracy: 0.7606\n",
      "Epoch 17/50\n",
      "50000/50000 [==============================] - 3s 61us/sample - loss: 3.5071e-05 - categorical_accuracy: 0.7631\n",
      "Epoch 18/50\n",
      "50000/50000 [==============================] - 3s 60us/sample - loss: 3.5055e-05 - categorical_accuracy: 0.7661\n",
      "Epoch 19/50\n",
      "50000/50000 [==============================] - 3s 60us/sample - loss: 3.5034e-05 - categorical_accuracy: 0.7699\n",
      "Epoch 20/50\n",
      "50000/50000 [==============================] - 3s 60us/sample - loss: 3.5028e-05 - categorical_accuracy: 0.7705\n",
      "Epoch 21/50\n",
      "50000/50000 [==============================] - 3s 60us/sample - loss: 3.5010e-05 - categorical_accuracy: 0.7748\n",
      "Epoch 22/50\n",
      "50000/50000 [==============================] - 3s 60us/sample - loss: 3.4999e-05 - categorical_accuracy: 0.7764\n",
      "Epoch 23/50\n",
      "50000/50000 [==============================] - 3s 60us/sample - loss: 3.4990e-05 - categorical_accuracy: 0.7779\n",
      "Epoch 24/50\n",
      "50000/50000 [==============================] - 3s 61us/sample - loss: 3.4974e-05 - categorical_accuracy: 0.7817\n",
      "Epoch 25/50\n",
      "50000/50000 [==============================] - 3s 60us/sample - loss: 3.4970e-05 - categorical_accuracy: 0.7826\n",
      "Epoch 26/50\n",
      "50000/50000 [==============================] - 3s 62us/sample - loss: 3.4964e-05 - categorical_accuracy: 0.7835\n",
      "Epoch 27/50\n",
      "50000/50000 [==============================] - 3s 64us/sample - loss: 3.4951e-05 - categorical_accuracy: 0.7875\n",
      "Epoch 28/50\n",
      "50000/50000 [==============================] - 3s 62us/sample - loss: 3.4946e-05 - categorical_accuracy: 0.7864\n",
      "Epoch 29/50\n",
      "50000/50000 [==============================] - 3s 63us/sample - loss: 3.4937e-05 - categorical_accuracy: 0.7885\n",
      "Epoch 30/50\n",
      "50000/50000 [==============================] - 3s 62us/sample - loss: 3.4936e-05 - categorical_accuracy: 0.7897\n",
      "Epoch 31/50\n",
      "50000/50000 [==============================] - 3s 59us/sample - loss: 3.4937e-05 - categorical_accuracy: 0.7890\n",
      "Epoch 32/50\n",
      "50000/50000 [==============================] - 3s 61us/sample - loss: 3.4926e-05 - categorical_accuracy: 0.7913\n",
      "Epoch 33/50\n",
      "50000/50000 [==============================] - 3s 60us/sample - loss: 3.4925e-05 - categorical_accuracy: 0.7908\n",
      "Epoch 34/50\n",
      "50000/50000 [==============================] - 3s 58us/sample - loss: 3.4921e-05 - categorical_accuracy: 0.7934\n",
      "Epoch 35/50\n",
      "50000/50000 [==============================] - 3s 59us/sample - loss: 3.4920e-05 - categorical_accuracy: 0.7935\n",
      "Epoch 36/50\n",
      "50000/50000 [==============================] - 3s 59us/sample - loss: 3.4918e-05 - categorical_accuracy: 0.7932\n",
      "Epoch 37/50\n",
      "50000/50000 [==============================] - 3s 59us/sample - loss: 3.4910e-05 - categorical_accuracy: 0.7935\n",
      "Epoch 38/50\n",
      "50000/50000 [==============================] - 3s 60us/sample - loss: 3.4903e-05 - categorical_accuracy: 0.7940\n",
      "Epoch 39/50\n",
      "50000/50000 [==============================] - 3s 59us/sample - loss: 3.4905e-05 - categorical_accuracy: 0.7960\n",
      "Epoch 40/50\n",
      "50000/50000 [==============================] - 3s 58us/sample - loss: 3.4899e-05 - categorical_accuracy: 0.7976\n",
      "Epoch 41/50\n",
      "50000/50000 [==============================] - 3s 57us/sample - loss: 3.4899e-05 - categorical_accuracy: 0.7973\n",
      "Epoch 42/50\n",
      "50000/50000 [==============================] - 3s 58us/sample - loss: 3.4891e-05 - categorical_accuracy: 0.7997\n",
      "Epoch 43/50\n",
      "50000/50000 [==============================] - 3s 58us/sample - loss: 3.4892e-05 - categorical_accuracy: 0.7994\n",
      "Epoch 44/50\n",
      "50000/50000 [==============================] - 3s 57us/sample - loss: 3.4888e-05 - categorical_accuracy: 0.7986\n",
      "Epoch 45/50\n",
      "50000/50000 [==============================] - 3s 60us/sample - loss: 3.4890e-05 - categorical_accuracy: 0.7977\n",
      "Epoch 46/50\n",
      "50000/50000 [==============================] - 3s 61us/sample - loss: 3.4880e-05 - categorical_accuracy: 0.8006\n",
      "Epoch 47/50\n",
      "50000/50000 [==============================] - 3s 60us/sample - loss: 3.4883e-05 - categorical_accuracy: 0.8009\n",
      "Epoch 48/50\n",
      "50000/50000 [==============================] - 3s 59us/sample - loss: 3.4885e-05 - categorical_accuracy: 0.7983\n",
      "Epoch 49/50\n",
      "50000/50000 [==============================] - 3s 60us/sample - loss: 3.4880e-05 - categorical_accuracy: 0.8007\n",
      "Epoch 50/50\n",
      "50000/50000 [==============================] - 3s 60us/sample - loss: 3.4875e-05 - categorical_accuracy: 0.8006\n",
      "10000/10000 [==============================] - 1s 56us/sample - loss: 1.5776 - categorical_accuracy: 0.4769\n",
      "Test Loss: 1.5776135791778565\n",
      "Test Accuracy: 0.4769\n"
     ]
    }
   ],
   "source": [
    "# Optimization = Adam\n",
    "# Loss = Cross Entropy loss\n",
    "# Epochs = 50\n",
    "# Trained with dark knowledge\n",
    "\n",
    "small_model.compile(optimizer='adam', loss= 'categorical_crossentropy', metrics=['categorical_accuracy'])\n",
    "small_model.fit(x_train, softened_train_prob, epochs=50, batch_size=128)\n",
    "\n",
    "test_loss, test_acc = small_model.evaluate(x_test, y_test)\n",
    "print(\"Test Loss:\", test_loss)\n",
    "print(\"Test Accuracy:\", test_acc)"
   ]
  },
  {
   "cell_type": "code",
   "execution_count": null,
   "metadata": {
    "colab": {},
    "colab_type": "code",
    "id": "SjO-qlQaQOhx"
   },
   "outputs": [],
   "source": [
    "small_model.save('model_50_LeNet-300-100_Distilled_CIFAR-10.h5')\n",
    "model.save('model_LeNet-300-100_CIFAR10.h5')"
   ]
  }
 ],
 "metadata": {
  "colab": {
   "name": "KD_LeNet_3_1_CIFAR.ipynb",
   "provenance": [],
   "toc_visible": true,
   "version": "0.3.2"
  },
  "kernelspec": {
   "display_name": "Python 3",
   "language": "python",
   "name": "python3"
  },
  "language_info": {
   "codemirror_mode": {
    "name": "ipython",
    "version": 3
   },
   "file_extension": ".py",
   "mimetype": "text/x-python",
   "name": "python",
   "nbconvert_exporter": "python",
   "pygments_lexer": "ipython3",
   "version": "3.7.2"
  }
 },
 "nbformat": 4,
 "nbformat_minor": 2
}
