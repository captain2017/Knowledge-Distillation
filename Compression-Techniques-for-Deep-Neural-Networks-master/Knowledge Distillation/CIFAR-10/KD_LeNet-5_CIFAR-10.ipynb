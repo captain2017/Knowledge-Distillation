{
 "cells": [
  {
   "cell_type": "code",
   "execution_count": null,
   "metadata": {
    "colab": {},
    "colab_type": "code",
    "id": "29s60UQN48Vo"
   },
   "outputs": [],
   "source": [
    "# Author: Naveen Lalwani\n",
    "# Script to distill knowledge from LeNet-5 model trained on CIFAR-10 to student model\n\n", 
    "import keras\n",
    "import numpy as np\n",
    "import tensorflow as tf\n",
    "# To grow the memory usage as is needed by the process\n",
    "# Get rid of the error: cuDNN failed to initialize\n\n", 
    "config = tf.ConfigProto()\n",
    "config.gpu_options.allow_growth = True\n",
    "from keras.datasets import mnist\n",
    "from keras.layers import Conv2D, MaxPooling2D\n",
    "from keras.layers import Dense, Flatten, Activation\n",
    "from keras.models import Sequential, Model\n",
    "from keras import layers\n",
    "from keras.utils import np_utils\n",
    "import time\n",
    "from tensorflow.keras import losses\n",
    "from tensorflow.keras.utils import to_categorical"
   ]
  },
  {
   "cell_type": "markdown",
   "metadata": {
    "colab_type": "text",
    "id": "wcD3xg1DJKav"
   },
   "source": [
    "**Preprocessing the CIFAR 10 dataset for LeNet5**"
   ]
  },
  {
   "cell_type": "code",
   "execution_count": null,
   "metadata": {
    "colab": {},
    "colab_type": "code",
    "id": "XI_RchfYJHtw"
   },
   "outputs": [],
   "source": [
    "num_classes = 10\n",
    "(x_train, y_train), (x_test, y_test) =  tf.keras.datasets.cifar10.load_data()\n",
    "\n",
    "# Enabling One Hot Encoding\n",
    "y_train = np_utils.to_categorical(y_train, num_classes)\n",
    "y_test = np_utils.to_categorical(y_test, num_classes)\n",
    "\n",
    "# Changing input image datatype to float\n",
    "x_train = x_train.astype('float32')\n",
    "x_test = x_test.astype('float32')\n",
    "\n",
    "# Normalizaig data\n",
    "x_train  /= 255\n",
    "x_test /= 255"
   ]
  },
  {
   "cell_type": "markdown",
   "metadata": {
    "colab_type": "text",
    "id": "sl_EW55dJava"
   },
   "source": [
    "# **Defining LeNet 5 Model**"
   ]
  },
  {
   "cell_type": "code",
   "execution_count": 21,
   "metadata": {
    "colab": {
     "base_uri": "https://localhost:8080/",
     "height": 791
    },
    "colab_type": "code",
    "id": "rLqU7pueJZlW",
    "outputId": "93895ffc-1fbd-45f6-9f20-e5600f97537a"
   },
   "outputs": [
    {
     "name": "stdout",
     "output_type": "stream",
     "text": [
      "Train on 50000 samples, validate on 10000 samples\n",
      "Epoch 1/20\n",
      "50000/50000 [==============================] - 62s 1ms/step - loss: 1.8008 - acc: 0.3403 - val_loss: 1.6612 - val_acc: 0.3997\n",
      "Epoch 2/20\n",
      "50000/50000 [==============================] - 61s 1ms/step - loss: 1.5282 - acc: 0.4470 - val_loss: 1.4626 - val_acc: 0.4760\n",
      "Epoch 3/20\n",
      "50000/50000 [==============================] - 61s 1ms/step - loss: 1.4111 - acc: 0.4916 - val_loss: 1.3672 - val_acc: 0.5058\n",
      "Epoch 4/20\n",
      "50000/50000 [==============================] - 61s 1ms/step - loss: 1.3336 - acc: 0.5239 - val_loss: 1.3084 - val_acc: 0.5348\n",
      "Epoch 5/20\n",
      "50000/50000 [==============================] - 61s 1ms/step - loss: 1.2671 - acc: 0.5482 - val_loss: 1.2561 - val_acc: 0.5508\n",
      "Epoch 6/20\n",
      "50000/50000 [==============================] - 61s 1ms/step - loss: 1.2070 - acc: 0.5682 - val_loss: 1.2299 - val_acc: 0.5639\n",
      "Epoch 7/20\n",
      "50000/50000 [==============================] - 60s 1ms/step - loss: 1.1611 - acc: 0.5879 - val_loss: 1.2094 - val_acc: 0.5746\n",
      "Epoch 8/20\n",
      "50000/50000 [==============================] - 62s 1ms/step - loss: 1.1278 - acc: 0.6018 - val_loss: 1.1630 - val_acc: 0.5885\n",
      "Epoch 9/20\n",
      "50000/50000 [==============================] - 62s 1ms/step - loss: 1.0939 - acc: 0.6139 - val_loss: 1.1850 - val_acc: 0.5832\n",
      "Epoch 10/20\n",
      "50000/50000 [==============================] - 61s 1ms/step - loss: 1.0621 - acc: 0.6254 - val_loss: 1.1663 - val_acc: 0.5944\n",
      "Epoch 11/20\n",
      "50000/50000 [==============================] - 62s 1ms/step - loss: 1.0373 - acc: 0.6382 - val_loss: 1.1328 - val_acc: 0.6046\n",
      "Epoch 12/20\n",
      "50000/50000 [==============================] - 61s 1ms/step - loss: 1.0081 - acc: 0.6461 - val_loss: 1.2003 - val_acc: 0.5866\n",
      "Epoch 13/20\n",
      "50000/50000 [==============================] - 62s 1ms/step - loss: 0.9906 - acc: 0.6514 - val_loss: 1.1211 - val_acc: 0.6059\n",
      "Epoch 14/20\n",
      "50000/50000 [==============================] - 62s 1ms/step - loss: 0.9641 - acc: 0.6599 - val_loss: 1.1437 - val_acc: 0.6004\n",
      "Epoch 15/20\n",
      "50000/50000 [==============================] - 62s 1ms/step - loss: 0.9384 - acc: 0.6693 - val_loss: 1.1021 - val_acc: 0.6182\n",
      "Epoch 16/20\n",
      "50000/50000 [==============================] - 62s 1ms/step - loss: 0.9222 - acc: 0.6754 - val_loss: 1.1101 - val_acc: 0.6161\n",
      "Epoch 17/20\n",
      "50000/50000 [==============================] - 61s 1ms/step - loss: 0.9009 - acc: 0.6835 - val_loss: 1.0895 - val_acc: 0.6242\n",
      "Epoch 18/20\n",
      "50000/50000 [==============================] - 62s 1ms/step - loss: 0.8820 - acc: 0.6901 - val_loss: 1.0737 - val_acc: 0.6349\n",
      "Epoch 19/20\n",
      "50000/50000 [==============================] - 61s 1ms/step - loss: 0.8623 - acc: 0.6981 - val_loss: 1.1210 - val_acc: 0.6185\n",
      "Epoch 20/20\n",
      "50000/50000 [==============================] - 61s 1ms/step - loss: 0.8435 - acc: 0.7044 - val_loss: 1.0927 - val_acc: 0.6240\n",
      "10000/10000 [==============================] - 8s 794us/step\n",
      "Test Loss: 1.092744529914856\n",
      "Test accuracy: 0.624\n"
     ]
    }
   ],
   "source": [
    "model = Sequential()\n",
    "\n",
    "model.add(Conv2D(6, kernel_size=(5, 5), activation='relu', input_shape=(32, 32, 3)))\n",
    "model.add(MaxPooling2D(pool_size=(2, 2)))\n",
    "\n",
    "\n",
    "model.add(Conv2D(16, kernel_size=(5, 5), activation='relu'))\n",
    "model.add(MaxPooling2D(pool_size=(2, 2)))\n",
    "\n",
    "model.add(Flatten())\n",
    "\n",
    "model.add(Dense(120, activation='relu'))\n",
    "\n",
    "model.add(Dense(84, activation='relu'))\n",
    "\n",
    "# Defining activation function separately here to get the logits/ dark knowledge from teacher model\n",
    "model.add(Dense(10, name=\"logits\"))\n",
    "model.add(Activation('softmax'))          \n",
    "\n",
    "# Run model\n",
    "# Adam Optimization\n",
    "# Loss = Cross Entropy Loss\n",
    "# Epochs = 20\n",
    "model.compile(loss=keras.metrics.categorical_crossentropy, optimizer=keras.optimizers.Adam(), metrics=['accuracy'])\n",
    "model.fit(x_train, y_train, batch_size=128, epochs= 20, verbose=1, validation_data=(x_test, y_test))\n",
    "\n",
    "# Get Test Accuracy\n",
    "score = model.evaluate(x_test, y_test)\n",
    "print('Test Loss:', score[0])\n",
    "print('Test accuracy:', score[1])"
   ]
  },
  {
   "cell_type": "code",
   "execution_count": null,
   "metadata": {
    "colab": {},
    "colab_type": "code",
    "id": "i84OfIkj8FxT"
   },
   "outputs": [],
   "source": [
    "getSoftmaxKnowledge = Model(inputs=model.input, outputs=model.get_layer(\"logits\").output)\n",
    "model_logits = getSoftmaxKnowledge.predict(x_train)"
   ]
  },
  {
   "cell_type": "code",
   "execution_count": null,
   "metadata": {
    "colab": {},
    "colab_type": "code",
    "id": "0dcFB7ud8tU6"
   },
   "outputs": [],
   "source": [
    "# Defining function described by Geoffrey Hinton in his paper of Knowledge Distillation\n",
    "def softmax_with_temperature(logits, temperature):\n",
    "    logits = logits / temperature\n",
    "    return (np.exp(logits) / np.sum(np.exp(logits)))"
   ]
  },
  {
   "cell_type": "code",
   "execution_count": null,
   "metadata": {
    "colab": {},
    "colab_type": "code",
    "id": "CW72oSBg878y"
   },
   "outputs": [],
   "source": [
    "# Temperature is a hyperparameter\n",
    "temperature = 5\n",
    "softened_train_prob = softmax_with_temperature(model_logits, temperature)"
   ]
  },
  {
   "cell_type": "markdown",
   "metadata": {
    "colab_type": "text",
    "id": "eZnRCv51KoFS"
   },
   "source": [
    "# **Defining Student Model**"
   ]
  },
  {
   "cell_type": "code",
   "execution_count": null,
   "metadata": {
    "colab": {},
    "colab_type": "code",
    "id": "1nWdGT-L9BaI"
   },
   "outputs": [],
   "source": [
    "# Model Definition for the Student Model\n",
    "def build_small_model():\n",
    "    inputs = layers.Input(shape = (3072,))\n",
    "    \n",
    "    x = layers.Dense(50, activation='relu', name='FC1')(inputs)\n",
    "    \n",
    "    x = layers.Dense(10, name='logits')(x)\n",
    "    \n",
    "    preds = layers.Activation('softmax', name='Softmax')(x)\n",
    "  \n",
    "    model = Model(inputs=inputs, outputs=preds)\n",
    "    model.summary()\n",
    "    return model"
   ]
  },
  {
   "cell_type": "code",
   "execution_count": 69,
   "metadata": {
    "colab": {
     "base_uri": "https://localhost:8080/",
     "height": 281
    },
    "colab_type": "code",
    "id": "D0CxWQcU9Gv4",
    "outputId": "6e712a06-f813-4154-9935-aac702bd94a4"
   },
   "outputs": [
    {
     "name": "stdout",
     "output_type": "stream",
     "text": [
      "_________________________________________________________________\n",
      "Layer (type)                 Output Shape              Param #   \n",
      "=================================================================\n",
      "input_11 (InputLayer)        (None, 3072)              0         \n",
      "_________________________________________________________________\n",
      "FC1 (Dense)                  (None, 50)                153650    \n",
      "_________________________________________________________________\n",
      "logits (Dense)               (None, 10)                510       \n",
      "_________________________________________________________________\n",
      "Softmax (Activation)         (None, 10)                0         \n",
      "=================================================================\n",
      "Total params: 154,160\n",
      "Trainable params: 154,160\n",
      "Non-trainable params: 0\n",
      "_________________________________________________________________\n"
     ]
    }
   ],
   "source": [
    "small_model = build_small_model()"
   ]
  },
  {
   "cell_type": "code",
   "execution_count": 72,
   "metadata": {
    "colab": {
     "base_uri": "https://localhost:8080/",
     "height": 1830
    },
    "colab_type": "code",
    "id": "UYSeF2-N9MzW",
    "outputId": "9c004c1b-fa63-4f48-cf05-f96e1d758ce1"
   },
   "outputs": [
    {
     "name": "stdout",
     "output_type": "stream",
     "text": [
      "Epoch 1/50\n",
      "50000/50000 [==============================] - 9s 181us/step - loss: 4.3646e-05 - categorical_accuracy: 0.4250\n",
      "Epoch 2/50\n",
      "50000/50000 [==============================] - 7s 137us/step - loss: 4.3605e-05 - categorical_accuracy: 0.4324\n",
      "Epoch 3/50\n",
      "50000/50000 [==============================] - 7s 132us/step - loss: 4.3589e-05 - categorical_accuracy: 0.4355\n",
      "Epoch 4/50\n",
      "50000/50000 [==============================] - 7s 133us/step - loss: 4.3584e-05 - categorical_accuracy: 0.4338\n",
      "Epoch 5/50\n",
      "50000/50000 [==============================] - 7s 137us/step - loss: 4.3565e-05 - categorical_accuracy: 0.4393\n",
      "Epoch 6/50\n",
      "50000/50000 [==============================] - 7s 137us/step - loss: 4.3541e-05 - categorical_accuracy: 0.4404\n",
      "Epoch 7/50\n",
      "50000/50000 [==============================] - 6s 130us/step - loss: 4.3528e-05 - categorical_accuracy: 0.4442\n",
      "Epoch 8/50\n",
      "50000/50000 [==============================] - 7s 130us/step - loss: 4.3522e-05 - categorical_accuracy: 0.4448\n",
      "Epoch 9/50\n",
      "50000/50000 [==============================] - 7s 131us/step - loss: 4.3519e-05 - categorical_accuracy: 0.4469\n",
      "Epoch 10/50\n",
      "50000/50000 [==============================] - 6s 128us/step - loss: 4.3509e-05 - categorical_accuracy: 0.4478\n",
      "Epoch 11/50\n",
      "50000/50000 [==============================] - 6s 123us/step - loss: 4.3505e-05 - categorical_accuracy: 0.4494\n",
      "Epoch 12/50\n",
      "50000/50000 [==============================] - 6s 123us/step - loss: 4.3503e-05 - categorical_accuracy: 0.4489\n",
      "Epoch 13/50\n",
      "50000/50000 [==============================] - 7s 132us/step - loss: 4.3495e-05 - categorical_accuracy: 0.4507\n",
      "Epoch 14/50\n",
      "50000/50000 [==============================] - 6s 129us/step - loss: 4.3491e-05 - categorical_accuracy: 0.4517\n",
      "Epoch 15/50\n",
      "50000/50000 [==============================] - 6s 121us/step - loss: 4.3484e-05 - categorical_accuracy: 0.4496\n",
      "Epoch 16/50\n",
      "50000/50000 [==============================] - 6s 129us/step - loss: 4.3472e-05 - categorical_accuracy: 0.4532\n",
      "Epoch 17/50\n",
      "50000/50000 [==============================] - 7s 138us/step - loss: 4.3466e-05 - categorical_accuracy: 0.4525\n",
      "Epoch 18/50\n",
      "50000/50000 [==============================] - 7s 134us/step - loss: 4.3455e-05 - categorical_accuracy: 0.4551\n",
      "Epoch 19/50\n",
      "50000/50000 [==============================] - 7s 132us/step - loss: 4.3450e-05 - categorical_accuracy: 0.4547\n",
      "Epoch 20/50\n",
      "50000/50000 [==============================] - 7s 130us/step - loss: 4.3445e-05 - categorical_accuracy: 0.4539\n",
      "Epoch 21/50\n",
      "50000/50000 [==============================] - 7s 131us/step - loss: 4.3442e-05 - categorical_accuracy: 0.4554\n",
      "Epoch 22/50\n",
      "50000/50000 [==============================] - 6s 127us/step - loss: 4.3437e-05 - categorical_accuracy: 0.4559\n",
      "Epoch 23/50\n",
      "50000/50000 [==============================] - 7s 139us/step - loss: 4.3438e-05 - categorical_accuracy: 0.4559\n",
      "Epoch 24/50\n",
      "50000/50000 [==============================] - 4s 77us/step - loss: 4.3435e-05 - categorical_accuracy: 0.4557\n",
      "Epoch 25/50\n",
      "50000/50000 [==============================] - 3s 61us/step - loss: 4.3431e-05 - categorical_accuracy: 0.4577\n",
      "Epoch 26/50\n",
      "50000/50000 [==============================] - 3s 61us/step - loss: 4.3426e-05 - categorical_accuracy: 0.4563\n",
      "Epoch 27/50\n",
      "50000/50000 [==============================] - 3s 59us/step - loss: 4.3426e-05 - categorical_accuracy: 0.4576\n",
      "Epoch 28/50\n",
      "50000/50000 [==============================] - 3s 61us/step - loss: 4.3423e-05 - categorical_accuracy: 0.4569\n",
      "Epoch 29/50\n",
      "50000/50000 [==============================] - 3s 62us/step - loss: 4.3420e-05 - categorical_accuracy: 0.4596\n",
      "Epoch 30/50\n",
      "50000/50000 [==============================] - 3s 61us/step - loss: 4.3419e-05 - categorical_accuracy: 0.4590\n",
      "Epoch 31/50\n",
      "50000/50000 [==============================] - 3s 61us/step - loss: 4.3417e-05 - categorical_accuracy: 0.4595\n",
      "Epoch 32/50\n",
      "50000/50000 [==============================] - 3s 62us/step - loss: 4.3414e-05 - categorical_accuracy: 0.4601\n",
      "Epoch 33/50\n",
      "50000/50000 [==============================] - 3s 63us/step - loss: 4.3415e-05 - categorical_accuracy: 0.4600\n",
      "Epoch 34/50\n",
      "50000/50000 [==============================] - 3s 62us/step - loss: 4.3410e-05 - categorical_accuracy: 0.4600\n",
      "Epoch 35/50\n",
      "50000/50000 [==============================] - 3s 63us/step - loss: 4.3412e-05 - categorical_accuracy: 0.4587\n",
      "Epoch 36/50\n",
      "50000/50000 [==============================] - 3s 60us/step - loss: 4.3408e-05 - categorical_accuracy: 0.4600\n",
      "Epoch 37/50\n",
      "50000/50000 [==============================] - 3s 60us/step - loss: 4.3408e-05 - categorical_accuracy: 0.4597\n",
      "Epoch 38/50\n",
      "50000/50000 [==============================] - 3s 60us/step - loss: 4.3407e-05 - categorical_accuracy: 0.4595\n",
      "Epoch 39/50\n",
      "50000/50000 [==============================] - 3s 62us/step - loss: 4.3405e-05 - categorical_accuracy: 0.4581\n",
      "Epoch 40/50\n",
      "50000/50000 [==============================] - 3s 61us/step - loss: 4.3403e-05 - categorical_accuracy: 0.4575\n",
      "Epoch 41/50\n",
      "50000/50000 [==============================] - 3s 60us/step - loss: 4.3401e-05 - categorical_accuracy: 0.4597\n",
      "Epoch 42/50\n",
      "50000/50000 [==============================] - 3s 61us/step - loss: 4.3404e-05 - categorical_accuracy: 0.4602\n",
      "Epoch 43/50\n",
      "50000/50000 [==============================] - 3s 61us/step - loss: 4.3401e-05 - categorical_accuracy: 0.4593\n",
      "Epoch 44/50\n",
      "50000/50000 [==============================] - 3s 60us/step - loss: 4.3400e-05 - categorical_accuracy: 0.4604\n",
      "Epoch 45/50\n",
      "50000/50000 [==============================] - 3s 63us/step - loss: 4.3399e-05 - categorical_accuracy: 0.4589\n",
      "Epoch 46/50\n",
      "50000/50000 [==============================] - 3s 64us/step - loss: 4.3397e-05 - categorical_accuracy: 0.4608\n",
      "Epoch 47/50\n",
      "50000/50000 [==============================] - 3s 61us/step - loss: 4.3398e-05 - categorical_accuracy: 0.4605\n",
      "Epoch 48/50\n",
      "50000/50000 [==============================] - 3s 61us/step - loss: 4.3395e-05 - categorical_accuracy: 0.4599\n",
      "Epoch 49/50\n",
      "50000/50000 [==============================] - 3s 62us/step - loss: 4.3395e-05 - categorical_accuracy: 0.4612\n",
      "Epoch 50/50\n",
      "50000/50000 [==============================] - 3s 67us/step - loss: 4.3396e-05 - categorical_accuracy: 0.4595\n",
      "10000/10000 [==============================] - 1s 133us/step\n",
      "Test Loss: 1.8958538597106933\n",
      "Test Accuracy: 0.3965\n"
     ]
    }
   ],
   "source": [
    "(x_train, y_train), (x_test, y_test) =  tf.keras.datasets.cifar10.load_data()\n",
    "\n",
    "# Enabling One Hot Encoding\n",
    "y_train = np_utils.to_categorical(y_train, num_classes)\n",
    "y_test = np_utils.to_categorical(y_test, num_classes)\n",
    "\n",
    "# Changing input image datatype to float\n",
    "x_train = x_train.astype('float32')\n",
    "x_test = x_test.astype('float32')\n",
    "\n",
    "# Normalizaig data\n",
    "x_train  /= 255\n",
    "x_test /= 255\n",
    "\n",
    "x_train = x_train.reshape([50000, 3072])\n",
    "x_test = x_test.reshape([10000, 3072])\n",
    "    \n",
    "    \n",
    "# Optimization = N Adam\n",
    "# Loss = Cross Entropy loss\n",
    "# Epochs = 50\n",
    "# Trained with dark knowledge\n",
    "small_model.compile(optimizer='Nadam', loss= 'categorical_crossentropy', metrics=['categorical_accuracy'])\n",
    "small_model.fit(x_train, softened_train_prob, epochs=50, batch_size=128)\n",
    "\n",
    "test_loss, test_acc = small_model.evaluate(x_test, y_test)\n",
    "print(\"Test Loss:\", test_loss)\n",
    "print(\"Test Accuracy:\", test_acc)"
   ]
  },
  {
   "cell_type": "code",
   "execution_count": null,
   "metadata": {
    "colab": {},
    "colab_type": "code",
    "id": "yiAGgmyCeG-P"
   },
   "outputs": [],
   "source": [
    "small_model.save('model_50_CIFAR10_5.h5')\n",
    "model.save('model_LeNet5_CIFAR10.h5')"
   ]
  }
 ],
 "metadata": {
  "colab": {
   "name": "KnowledgeDistillationLeNet5_CIFAR10.ipynb",
   "provenance": [],
   "toc_visible": true,
   "version": "0.3.2"
  },
  "kernelspec": {
   "display_name": "Python 3",
   "language": "python",
   "name": "python3"
  },
  "language_info": {
   "codemirror_mode": {
    "name": "ipython",
    "version": 3
   },
   "file_extension": ".py",
   "mimetype": "text/x-python",
   "name": "python",
   "nbconvert_exporter": "python",
   "pygments_lexer": "ipython3",
   "version": "3.7.2"
  }
 },
 "nbformat": 4,
 "nbformat_minor": 2
}
