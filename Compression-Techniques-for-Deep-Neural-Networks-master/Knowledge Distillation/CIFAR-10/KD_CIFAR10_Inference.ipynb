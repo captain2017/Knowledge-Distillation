{
 "cells": [
  {
   "cell_type": "code",
   "execution_count": 7,
   "metadata": {},
   "outputs": [],
   "source": [
    "# Author: Naveen Lalwani\n",
    "# Script to evaluate speed and inference time of various student models on CIFAR-10\n\n",
    "import tensorflow as tf\n",
    "import keras\n",
    "import numpy as np\n",
    "import time\n",
    "from tensorflow.contrib import lite\n",
    "from keras.utils import np_utils"
   ]
  },
  {
   "cell_type": "code",
   "execution_count": 8,
   "metadata": {},
   "outputs": [],
   "source": [
    "num_classes = 10\n",
    "\n",
    "(x_train, y_train), (x_test, y_test) =  tf.keras.datasets.cifar10.load_data()\n",
    "\n",
    "# Enabling One Hot Encoding\n",
    "y_test = np_utils.to_categorical(y_test, num_classes)\n",
    "\n",
    "# Changing input image datatype to float\n",
    "x_test = x_test.astype('float32')\n",
    "\n",
    "# Normalizaig data\n",
    "x_test /= 255\n",
    "x_test_5 = x_test\n",
    "x_test = x_test.reshape([10000, 3072])\n",
    "\n",
    "numTest = 10000"
   ]
  },
  {
   "cell_type": "code",
   "execution_count": 9,
   "metadata": {},
   "outputs": [],
   "source": [
    "# Original student model with no knowledge distillation\n",
    "interpreter = tf.lite.Interpreter(model_path=\"C://users/navee/Knowledge Distillation CIFAR 10/Student_model_CIFAR10.tflite\")\n",
    "interpreter.allocate_tensors()\n",
    "input_index = interpreter.get_input_details()[0][\"index\"]"
   ]
  },
  {
   "cell_type": "code",
   "execution_count": 10,
   "metadata": {},
   "outputs": [
    {
     "name": "stdout",
     "output_type": "stream",
     "text": [
      "Inference Time: 1.6504161357879639\n",
      "Accuracy = 10.05\n"
     ]
    }
   ],
   "source": [
    "start = time.time()\n",
    "count = 0\n",
    "for i in range(numTest):\n",
    "    input_data = np.array(x_test[i].reshape([1, 3072]), dtype = np.float32)\n",
    "    interpreter.set_tensor(input_index, input_data)\n",
    "    interpreter.invoke()\n",
    "    output_details = interpreter.get_output_details()\n",
    "    output_index = output_details[0]['index']\n",
    "    output_data = interpreter.get_tensor(output_index)\n",
    "    pred_model = np.argmax(output_data)\n",
    "    pred_data = np.argmax(y_test[i])\n",
    "    if(pred_model == pred_data):\n",
    "        count += 1\n",
    "end = time.time()\n",
    "print(\"Inference Time: \" + str(end - start))\n",
    "print(\"Accuracy = \" + (str((count / numTest) * 100)))"
   ]
  },
  {
   "cell_type": "code",
   "execution_count": 11,
   "metadata": {},
   "outputs": [
    {
     "name": "stdout",
     "output_type": "stream",
     "text": [
      "INFO:tensorflow:Froze 4 variables.\n",
      "INFO:tensorflow:Converted 4 variables to const ops.\n"
     ]
    },
    {
     "data": {
      "text/plain": [
       "617692"
      ]
     },
     "execution_count": 11,
     "metadata": {},
     "output_type": "execute_result"
    }
   ],
   "source": [
    "# Student model which has knowlede distilled by LeNet-5\n",
    "converter = tf.lite.TFLiteConverter.from_keras_model_file(\"C://users/navee/Knowledge Distillation CIFAR 10/model_50_CIFAR10_5.h5\")\n",
    "tflite_model = converter.convert()\n",
    "open(\"Distilled_Student_model_L5_C.tflite\", \"wb\").write(tflite_model)"
   ]
  },
  {
   "cell_type": "code",
   "execution_count": 13,
   "metadata": {},
   "outputs": [
    {
     "name": "stdout",
     "output_type": "stream",
     "text": [
      "Inference Time: 1.7227437496185303\n",
      "Accuracy = 42.18\n"
     ]
    }
   ],
   "source": [
    "# Student model which has knowlede distilled by LeNet-5\n",
    "\n",
    "interpreter = tf.lite.Interpreter(model_path=\"C://users/navee/Knowledge Distillation CIFAR 10/Distilled_Student_model_L5_C.tflite\")\n",
    "interpreter.allocate_tensors()\n",
    "input_index = interpreter.get_input_details()[0][\"index\"]\n",
    "start = time.time()\n",
    "count = 0\n",
    "for i in range(numTest):\n",
    "    input_data = np.array(x_test_5[i].reshape([1, 3072]), dtype = np.float32)\n",
    "    interpreter.set_tensor(input_index, input_data)\n",
    "    interpreter.invoke()\n",
    "    output_details = interpreter.get_output_details()\n",
    "    output_index = output_details[0]['index']\n",
    "    output_data = interpreter.get_tensor(output_index)\n",
    "    pred_model = np.argmax(output_data)\n",
    "    pred_data = np.argmax(y_test[i])\n",
    "    if(pred_model == pred_data):\n",
    "        count += 1\n",
    "end = time.time()\n",
    "print(\"Inference Time: \" + str(end - start))\n",
    "print(\"Accuracy = \" + (str((count / numTest) * 100)))"
   ]
  },
  {
   "cell_type": "code",
   "execution_count": 14,
   "metadata": {},
   "outputs": [
    {
     "name": "stdout",
     "output_type": "stream",
     "text": [
      "INFO:tensorflow:Froze 4 variables.\n",
      "INFO:tensorflow:Converted 4 variables to const ops.\n",
      "Inference Time: 1.6739492416381836\n",
      "Accuracy = 48.08\n"
     ]
    }
   ],
   "source": [
    "# Student model which has knowlede distilled by LeNet-300-100\n",
    "\n",
    "converter = tf.lite.TFLiteConverter.from_keras_model_file(\"C://users/navee/Knowledge Distillation CIFAR 10/model_50_LeNet-300-100_Distilled_CIFAR-10.h5\")\n",
    "tflite_model = converter.convert()\n",
    "open(\"Distilled_Student_model_LeNet-3-1-C10.tflite\", \"wb\").write(tflite_model)\n",
    "\n",
    "# Student model which has knowlede distilled by LeNet-300-100\n",
    "\n",
    "interpreter = tf.lite.Interpreter(model_path=\"C://users/navee/Knowledge Distillation CIFAR 10/Distilled_Student_model_LeNet-3-1-C10.tflite\")\n",
    "interpreter.allocate_tensors()\n",
    "input_index = interpreter.get_input_details()[0][\"index\"]\n",
    "start = time.time()\n",
    "count = 0\n",
    "for i in range(numTest):\n",
    "    input_data = np.array(x_test[i].reshape([1, 3072]), dtype = np.float32)\n",
    "    interpreter.set_tensor(input_index, input_data)\n",
    "    interpreter.invoke()\n",
    "    output_details = interpreter.get_output_details()\n",
    "    output_index = output_details[0]['index']\n",
    "    output_data = interpreter.get_tensor(output_index)\n",
    "    pred_model = np.argmax(output_data)\n",
    "    pred_data = np.argmax(y_test[i])\n",
    "    if(pred_model == pred_data):\n",
    "        count += 1\n",
    "end = time.time()\n",
    "print(\"Inference Time: \" + str(end - start))\n",
    "print(\"Accuracy = \" + (str((count / numTest) * 100)))"
   ]
  }
 ],
 "metadata": {
  "kernelspec": {
   "display_name": "Python 3",
   "language": "python",
   "name": "python3"
  },
  "language_info": {
   "codemirror_mode": {
    "name": "ipython",
    "version": 3
   },
   "file_extension": ".py",
   "mimetype": "text/x-python",
   "name": "python",
   "nbconvert_exporter": "python",
   "pygments_lexer": "ipython3",
   "version": "3.7.2"
  }
 },
 "nbformat": 4,
 "nbformat_minor": 2
}
